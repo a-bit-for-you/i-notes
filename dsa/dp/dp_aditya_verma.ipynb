{
 "cells": [
  {
   "cell_type": "markdown",
   "id": "becca422",
   "metadata": {},
   "source": [
    "# 0-1 Knapsack"
   ]
  },
  {
   "cell_type": "markdown",
   "id": "bb9c2b95",
   "metadata": {},
   "source": [
    "# 1. Knapsack 0-1 recursive"
   ]
  },
  {
   "cell_type": "code",
   "execution_count": 1,
   "id": "c187ef94",
   "metadata": {},
   "outputs": [
    {
     "name": "stdout",
     "output_type": "stream",
     "text": [
      "220\n"
     ]
    }
   ],
   "source": [
    "def knap_sack(val,wt,W,n):\n",
    "    if n == 0 or W == 0: return 0\n",
    "    if wt[n-1] > W: return knap_sack(val,wt,W,n-1)\n",
    "    return max(val[n-1] + knap_sack(val,wt,W-wt[n-1],n-1), knap_sack(val,wt,W,n-1))\n",
    "\n",
    "val = [60,100,120]\n",
    "wt = [10,20,30]\n",
    "W = 50\n",
    "n = len(val)\n",
    "print(knap_sack(val,wt,W,n))"
   ]
  },
  {
   "cell_type": "markdown",
   "id": "84fc3898",
   "metadata": {},
   "source": [
    "# 2. Knapsack 0-1 iterative"
   ]
  },
  {
   "cell_type": "code",
   "execution_count": 1,
   "id": "e43795e3",
   "metadata": {},
   "outputs": [
    {
     "name": "stdout",
     "output_type": "stream",
     "text": [
      "220\n"
     ]
    }
   ],
   "source": [
    "def knap_sack(val,wt,W,n):\n",
    "    table = [[0 for i in range(W+1)] for i in range(n+1)]\n",
    "\n",
    "    for i in range(1,n+1):\n",
    "        for j in range(1,W+1):\n",
    "            if i == 0 or j == 0: table[i][j] = 0\n",
    "            elif wt[i-1] > j: table[i][j] = table[i-1][j]\n",
    "            else: table[i][j] = max(val[i-1] + table[i-1][j-wt[i-1]], table[i-1][j])\n",
    "    return table[n][W]\n",
    "\n",
    "val = [60,100,120]\n",
    "wt = [10,20,30]\n",
    "W = 50\n",
    "n = len(val)\n",
    "print(knap_sack(val,wt,W,n))\n"
   ]
  },
  {
   "cell_type": "markdown",
   "id": "6e51757f",
   "metadata": {},
   "source": [
    "# 3. subset sum"
   ]
  },
  {
   "cell_type": "code",
   "execution_count": 19,
   "id": "090c7c86",
   "metadata": {},
   "outputs": [
    {
     "data": {
      "text/plain": [
       "True"
      ]
     },
     "execution_count": 19,
     "metadata": {},
     "output_type": "execute_result"
    }
   ],
   "source": [
    "def subset_sum(arr,s,n):\n",
    "    table = [[False for i in range(s+1)] for i in range(n+1)]\n",
    "    for i in range(n+1):\n",
    "        table[i][0] = True\n",
    "                \n",
    "    for i in range(1,n+1):\n",
    "        for j in range(1,s+1):\n",
    "            if arr[i-1] > j: \n",
    "                table[i][j] = table[i-1][j]\n",
    "            else:\n",
    "                # only variation is or instead of max in knapsack 0-1 problem\n",
    "                table[i][j] = (table[i-1][j-arr[i-1]]) or (table[i-1][j])\n",
    "    return table[n][s]\n",
    "    \n",
    "arr = [2,3,7,8,10]\n",
    "n = len(arr)\n",
    "s = 11\n",
    "subset_sum(arr,s,n)"
   ]
  },
  {
   "cell_type": "markdown",
   "id": "6cfb23f4",
   "metadata": {},
   "source": [
    "# 4. equal sum partition"
   ]
  },
  {
   "cell_type": "code",
   "execution_count": 25,
   "id": "2f46de54",
   "metadata": {},
   "outputs": [
    {
     "name": "stdout",
     "output_type": "stream",
     "text": [
      "True\n"
     ]
    }
   ],
   "source": [
    "def equal_sum(arr):\n",
    "    s = sum(arr)\n",
    "    if s&1 != 0:\n",
    "        return False\n",
    "    # using already solved problem\n",
    "    return subset_sum(arr,s//2,len(arr))\n",
    "    \n",
    "arr = [2,3,7,8,10]\n",
    "print(equal_sum(arr))"
   ]
  },
  {
   "cell_type": "markdown",
   "id": "138db6fa",
   "metadata": {},
   "source": [
    "# 5. count of subset sum"
   ]
  },
  {
   "cell_type": "markdown",
   "id": "adbe73e0",
   "metadata": {},
   "source": [
    "### one more reference TECH DOSE: https://youtu.be/MqYLmIzl8sQ"
   ]
  },
  {
   "cell_type": "code",
   "execution_count": 15,
   "id": "26743f5f",
   "metadata": {},
   "outputs": [
    {
     "data": {
      "text/plain": [
       "3"
      ]
     },
     "execution_count": 15,
     "metadata": {},
     "output_type": "execute_result"
    }
   ],
   "source": [
    "def count_subset_sum(arr,s,n):\n",
    "    table = [[0 for i in range(s+1)] for i in range(n+1)]\n",
    "    for i in range(n+1):\n",
    "        table[i][0] = 1\n",
    "\n",
    "    for i in range(1,n+1):\n",
    "        for j in range(1,s+1):\n",
    "            if arr[i-1] > j:\n",
    "                table[i][j] = table[i-1][j]\n",
    "            else:\n",
    "                # only variation is '+' instead of or in subsetsum problem\n",
    "                table[i][j] = (table[i-1][j-arr[i-1]]) + (table[i-1][j])\n",
    "    return table[n][s]\n",
    "    \n",
    "arr = [2,3,5,6,8,10]\n",
    "# 2 3 5\n",
    "# 2 8\n",
    "# 10\n",
    "n = len(arr)\n",
    "s = 10\n",
    "arr = [3,1,2,3]\n",
    "n = len(arr)\n",
    "s = 6\n",
    "count_subset_sum(arr,s,n)"
   ]
  },
  {
   "cell_type": "markdown",
   "id": "9eb5b694",
   "metadata": {},
   "source": [
    "# 6. minimum subset sum difference"
   ]
  },
  {
   "cell_type": "code",
   "execution_count": null,
   "id": "5bfdb9df",
   "metadata": {},
   "outputs": [],
   "source": [
    "# we have to find s2 - s1\n",
    "# we can transfrom this question to (s-s1)-s1 = s-2s1  since s-s1 = s2"
   ]
  },
  {
   "cell_type": "code",
   "execution_count": 1,
   "id": "0099dce8",
   "metadata": {},
   "outputs": [
    {
     "data": {
      "text/plain": [
       "1"
      ]
     },
     "execution_count": 1,
     "metadata": {},
     "output_type": "execute_result"
    }
   ],
   "source": [
    "# subsets are created by adding elements\n",
    "arr = [1,2,7]\n",
    "n = len(arr)\n",
    "\n",
    "# using already solved problem\n",
    "def subset_sum(arr,s,n):\n",
    "    table = [[False for i in range(s+1)] for i in range(n+1)]\n",
    "    for i in range(n+1):\n",
    "        table[i][0] = True\n",
    "                \n",
    "    for i in range(1,n+1):\n",
    "        for j in range(1,s+1):\n",
    "            if arr[i-1] > j: \n",
    "                table[i][j] = table[i-1][j]\n",
    "            else:\n",
    "                table[i][j] = (table[i-1][j-arr[i-1]]) or (table[i-1][j])\n",
    "    return table[n]\n",
    "\n",
    "s = sum(arr)\n",
    "qualified_sums = []\n",
    "\n",
    "arr1 = subset_sum(arr,s,len(arr))\n",
    "for i in range(1,len(arr1)//2):\n",
    "    if arr1[i]:\n",
    "        qualified_sums.append(i)\n",
    "\n",
    "minimum = float('inf')\n",
    "for i in qualified_sums:\n",
    "    minimum = min(minimum, s-2*i)\n",
    "minimum\n"
   ]
  },
  {
   "cell_type": "markdown",
   "id": "ebc42749",
   "metadata": {},
   "source": [
    "# 7. count the number of subset with a given difference"
   ]
  },
  {
   "cell_type": "raw",
   "id": "a6a4b70a",
   "metadata": {},
   "source": [
    "Comments\n",
    "#Question s1-s2 = diff\n",
    "\n",
    "s1 - s2 = diff  # given in question\n",
    "s1 + s2 = sum(arr)\n",
    "\n",
    "adding the above equations\n",
    "we get our new question\n",
    "s1 = (diff + sum(arr))/2"
   ]
  },
  {
   "cell_type": "code",
   "execution_count": 3,
   "id": "513d88ed",
   "metadata": {},
   "outputs": [
    {
     "data": {
      "text/plain": [
       "3"
      ]
     },
     "execution_count": 3,
     "metadata": {},
     "output_type": "execute_result"
    }
   ],
   "source": [
    "arr = [1,1,2,3]\n",
    "diff = 1\n",
    "\n",
    "s1 = (diff + sum(arr))//2\n",
    "\n",
    "# using already solved problem\n",
    "def count_subset_sum(arr,s,n):\n",
    "    table = [[0 for i in range(s+1)] for i in range(n+1)]\n",
    "    for i in range(n+1):\n",
    "        table[i][0] = 1\n",
    "\n",
    "    for i in range(1,n+1):\n",
    "        for j in range(1,s+1):\n",
    "            if arr[i-1] > j:\n",
    "                table[i][j] = table[i-1][j]\n",
    "            else:\n",
    "                table[i][j] = (table[i-1][j-arr[i-1]]) + (table[i-1][j])\n",
    "    return table[n][s]\n",
    "\n",
    "count_subset_sum(arr,s1,len(arr))"
   ]
  },
  {
   "cell_type": "markdown",
   "id": "ff3655e4",
   "metadata": {},
   "source": [
    "# 8. target sum"
   ]
  },
  {
   "cell_type": "raw",
   "id": "be90ae49",
   "metadata": {},
   "source": [
    "arr = [1,1,2,3]\n",
    "\n",
    "s = 1\n",
    "\n",
    "this problem is same as count of subset with given difference."
   ]
  },
  {
   "cell_type": "markdown",
   "id": "1747040b",
   "metadata": {},
   "source": [
    "# Unbounded knapsack pattern"
   ]
  },
  {
   "cell_type": "markdown",
   "id": "563532f1",
   "metadata": {},
   "source": [
    "# 9. Unbounded knapsack recursive"
   ]
  },
  {
   "cell_type": "code",
   "execution_count": 7,
   "id": "8da00f79",
   "metadata": {},
   "outputs": [
    {
     "data": {
      "text/plain": [
       "300"
      ]
     },
     "execution_count": 7,
     "metadata": {},
     "output_type": "execute_result"
    }
   ],
   "source": [
    "def unbounded_knapsack(val,wt,W,n):\n",
    "    \n",
    "    if n == 0 or W == 0:\n",
    "        return 0\n",
    "    \n",
    "    if wt[n-1] > W:\n",
    "        return unbounded_knapsack(val, wt, W, n-1)\n",
    "    else:\n",
    "        # only change is n instead of n-1 when we include the element \n",
    "        return max(val[n-1] + unbounded_knapsack(val, wt, W-wt[n-1], n), unbounded_knapsack(val, wt, W, n-1))\n",
    "val = [60,100,120]\n",
    "wt = [10,20,30]\n",
    "W = 50\n",
    "n = len(val)\n",
    "unbounded_knapsack(val,wt,W,n)"
   ]
  },
  {
   "cell_type": "markdown",
   "id": "96be09fd",
   "metadata": {},
   "source": [
    "# Unbounded knapsack iterative"
   ]
  },
  {
   "cell_type": "code",
   "execution_count": 1,
   "id": "dea0b639",
   "metadata": {},
   "outputs": [
    {
     "name": "stdout",
     "output_type": "stream",
     "text": [
      "300\n"
     ]
    }
   ],
   "source": [
    "def knap_sack(val,wt,W,n):\n",
    "    t = [[0 for i in range(W+1)] for i in range(n+1)]\n",
    "    \n",
    "    for i in range(1,n+1):\n",
    "        for j in range(1,W+1):\n",
    "            if i ==0 or j == 0:\n",
    "                t[i][j] = 0\n",
    "            elif wt[i-1] > W:\n",
    "                t[i][j] = t[i-1][j]\n",
    "            else:\n",
    "                t[i][j] = max(val[i-1]+t[i][j-wt[i-1]],t[i-1][j])\n",
    "    return t[n][W]\n",
    "val = [60,100,120]\n",
    "wt = [10,20,30]\n",
    "W = 50\n",
    "n = len(val)\n",
    "print(knap_sack(val,wt,W,n))"
   ]
  },
  {
   "cell_type": "markdown",
   "id": "09365d4f",
   "metadata": {},
   "source": [
    "# 10. rod cutting problem"
   ]
  },
  {
   "cell_type": "markdown",
   "id": "877a4936",
   "metadata": {},
   "source": [
    "same as above"
   ]
  },
  {
   "cell_type": "markdown",
   "id": "7d9c7325",
   "metadata": {},
   "source": [
    "# 11. Coin change problem 1"
   ]
  },
  {
   "cell_type": "code",
   "execution_count": 1,
   "id": "7963c2da",
   "metadata": {},
   "outputs": [
    {
     "data": {
      "text/plain": [
       "5"
      ]
     },
     "execution_count": 1,
     "metadata": {},
     "output_type": "execute_result"
    }
   ],
   "source": [
    "\n",
    "\n",
    "# if wt[n-1] > W:\n",
    "#     knapsack(wt, val, n-1, W)\n",
    "# else:\n",
    "#     max(val[n-1] + knapsack(wt, val, n-1, W-wt[n-1]), knapsack(wt, val, n-1, W))\n",
    "\n",
    "\n",
    "def coin_change(coin, s, n):\n",
    "    \n",
    "    table = [[0 for i in range(s+1)] for i in range(n+1)]\n",
    "    for i in range(n+1):\n",
    "        table[i][0] = 1\n",
    "    \n",
    "    for i in range(1,n+1):\n",
    "        for j in range(1,s+1):\n",
    "            if coin[i-1] > j:\n",
    "                table[i][j] = table[i-1][j]\n",
    "            else:\n",
    "                table[i][j] = table[i][j-coin[i-1]] + table[i-1][j]\n",
    "    return table[n][s]\n",
    "                \n",
    "#     print(table)            else: table[i][j] = max(val[i-1] + table[i-1][j-wt[i-1]], table[i-1][j])\n",
    "\n",
    "    \n",
    "coin = [1,2,3]\n",
    "\n",
    "s = 5\n",
    "n = len(coin)\n",
    "coin_change(coin, s, n)"
   ]
  },
  {
   "cell_type": "markdown",
   "id": "d63b5f2d",
   "metadata": {},
   "source": [
    "# 12. Coin change problem 2"
   ]
  },
  {
   "cell_type": "code",
   "execution_count": 3,
   "id": "4f109814",
   "metadata": {},
   "outputs": [
    {
     "name": "stdout",
     "output_type": "stream",
     "text": [
      "[[inf, inf, inf, inf, inf, inf], [0, 1, 2, 3, 4, 5], [0, 1, 1, 2, 2, 3], [0, 1, 1, 1, 2, 2]]\n",
      "[[inf, inf, inf, inf, inf, inf], [0, 1, 2, 3, 4, 5], [0, 1, 1, 2, 2, 3], [0, 1, 1, 1, 2, 2]]\n",
      "Minimum coins required is 2\n"
     ]
    }
   ],
   "source": [
    "# if wt[n-1] > W:\n",
    "#     knapsack(val, wt, W, n-1)\n",
    "# else:\n",
    "#     max(val[n-1] + knapsack(val, wt, W-wt[n-1], n-1), knapsack(val, wt, W, n-1))\n",
    "\n",
    "\n",
    "def coin_change(coin, s, n):\n",
    "    \n",
    "    table = [[0 for i in range(s+1)] for i in range(n+1)]\n",
    "    \n",
    "    for i in range(s+1):\n",
    "        table[0][i] = float('inf')\n",
    "        \n",
    "    for j in range(1,s+1):\n",
    "        \n",
    "        if j % coin[0] == 0:\n",
    "            table[1][j] = j//coin[0]\n",
    "        else:\n",
    "            table[1][j] = float('inf')\n",
    "#     print(table)\n",
    "    for i in range(2,n+1):\n",
    "        for j in range(1,j+1):\n",
    "            if coin[i-1] > j:\n",
    "                table[i][j] = table[i-1][j]\n",
    "            else:\n",
    "                table[i][j] = min(1 + table[i][j-coin[i-1]], table[i-1][j])\n",
    "    print(table)\n",
    "    return table[n][s]\n",
    "        \n",
    "    \n",
    "    \n",
    "coin = [1,2,3]\n",
    "\n",
    "s = 5\n",
    "n = len(coin)\n",
    "coin_change(coin, s, n)\n",
    "\n",
    "print(\"Minimum coins required is\",coin_change(coin, s, n))"
   ]
  },
  {
   "cell_type": "markdown",
   "id": "56cddb9b",
   "metadata": {},
   "source": [
    "# 13.A Longest common subsequence (LCS)"
   ]
  },
  {
   "cell_type": "code",
   "execution_count": 3,
   "id": "8c73bf2b",
   "metadata": {},
   "outputs": [
    {
     "data": {
      "text/plain": [
       "4"
      ]
     },
     "execution_count": 3,
     "metadata": {},
     "output_type": "execute_result"
    }
   ],
   "source": [
    "def lcs(x,y,m,n):\n",
    "    \n",
    "    if m == 0 or n == 0:\n",
    "        return 0\n",
    "        \n",
    "    if x[m-1] == y[n-1]:\n",
    "        return 1 + lcs(x,y,m-1,n-1)\n",
    "    else:\n",
    "        return max(lcs(x,y,m-1,n), lcs(x,y,m,n-1))\n",
    "\n",
    "x = 'abcdgh'\n",
    "y = 'abedfhr'\n",
    "# x = \"AGGTAB\"\n",
    "# y = \"GXTXAYB\"\n",
    "m = len(x)\n",
    "n = len(y)\n",
    "lcs(x,y,m,n)"
   ]
  },
  {
   "cell_type": "markdown",
   "id": "0d50befe",
   "metadata": {},
   "source": [
    "# 13.B LCS with memoization"
   ]
  },
  {
   "cell_type": "code",
   "execution_count": 14,
   "id": "17874594",
   "metadata": {},
   "outputs": [
    {
     "data": {
      "text/plain": [
       "4"
      ]
     },
     "execution_count": 14,
     "metadata": {},
     "output_type": "execute_result"
    }
   ],
   "source": [
    "def lcs(x,y,m,n,memo={}):\n",
    "    \n",
    "    if m == 0 or n == 0:\n",
    "        return 0\n",
    "    \n",
    "    if (m,n) in memo:\n",
    "        return memo[(m,n)]\n",
    "        \n",
    "    if x[m-1] == y[n-1]:\n",
    "        memo[(m,n)] = 1 + lcs(x,y,m-1,n-1)\n",
    "        return memo[(m,n)]\n",
    "    else:\n",
    "        memo[(m,n)] = max(lcs(x,y,m-1,n), lcs(x,y,m,n-1))\n",
    "        return memo[(m,n)]\n",
    "\n",
    "x = 'abcdgh'\n",
    "y = 'abedfhr'\n",
    "# x = \"AGGTAB\"\n",
    "# y = \"GXTXAYB\"\n",
    "m = len(x)\n",
    "n = len(y)\n",
    "lcs(x,y,m,n)"
   ]
  },
  {
   "cell_type": "markdown",
   "id": "95b67c74",
   "metadata": {},
   "source": [
    "# 13.C LCS with tabulation"
   ]
  },
  {
   "cell_type": "code",
   "execution_count": 5,
   "id": "932c9f5e",
   "metadata": {},
   "outputs": [
    {
     "data": {
      "text/plain": [
       "4"
      ]
     },
     "execution_count": 5,
     "metadata": {},
     "output_type": "execute_result"
    }
   ],
   "source": [
    "def lcs(x,y,m,n):\n",
    "    table = [[0 for i in range(n+1)] for i in range(m+1)]\n",
    "    \n",
    "    for i in range(1,m+1):\n",
    "        for j in range(1,n+1):\n",
    "            if x[i-1] == y[j-1]:\n",
    "                table[i][j] = 1 + table[i-1][j-1]\n",
    "            else:\n",
    "                table[i][j] = max(table[i-1][j],table[i][j-1])\n",
    "    return table[m][n]\n",
    "x = 'abcdgh'\n",
    "y = 'abedfhr'\n",
    "x = \"AGGTAB\"\n",
    "y = \"GXTXAYB\"\n",
    "m = len(x)\n",
    "n = len(y)\n",
    "lcs(x,y,m,n)"
   ]
  },
  {
   "cell_type": "markdown",
   "id": "77fb3471",
   "metadata": {},
   "source": [
    "# 14. Longest common substring"
   ]
  },
  {
   "cell_type": "code",
   "execution_count": 23,
   "id": "703ae2b2",
   "metadata": {},
   "outputs": [
    {
     "data": {
      "text/plain": [
       "5"
      ]
     },
     "execution_count": 23,
     "metadata": {},
     "output_type": "execute_result"
    }
   ],
   "source": [
    "def lcs(x,y,m,n):\n",
    "    table = [[0 for i in range(n+1)] for i in range(m+1)]\n",
    "    longest_length = 0\n",
    "    for i in range(1,m+1):\n",
    "        for j in range(1,n+1):\n",
    "            if x[i-1] == y[j-1]:\n",
    "                table[i][j] = 1 + table[i-1][j-1]\n",
    "                longest_length = max(table[i][j],longest_length)\n",
    "            else:\n",
    "                table[i][j] = 0\n",
    "    return longest_length\n",
    "\n",
    "x = 'abcdgh'\n",
    "y = 'abedfhr'\n",
    "x = 'geeksforgeeks'\n",
    "y = 'geeksquiz'\n",
    "# x = \"AGGTAB\"\n",
    "# y = \"GXTXAYB\"\n",
    "m = len(x)\n",
    "n = len(y)\n",
    "lcs(x,y,m,n)"
   ]
  },
  {
   "cell_type": "markdown",
   "id": "2999917b",
   "metadata": {},
   "source": [
    "# 15. Print LCS"
   ]
  },
  {
   "cell_type": "code",
   "execution_count": 20,
   "id": "9bd5c06f",
   "metadata": {},
   "outputs": [
    {
     "data": {
      "text/plain": [
       "'abcf'"
      ]
     },
     "execution_count": 20,
     "metadata": {},
     "output_type": "execute_result"
    }
   ],
   "source": [
    "# using already solved problem\n",
    "def lcs(x,y,m,n):\n",
    "    table = [[0 for i in range(n+1)] for i in range(m+1)]\n",
    "    \n",
    "    for i in range(1,m+1):\n",
    "        for j in range(1,n+1):\n",
    "            if x[i-1] == y[j-1]:\n",
    "                table[i][j] = 1 + table[i-1][j-1]\n",
    "            else:\n",
    "                table[i][j] = max(table[i-1][j],table[i][j-1])\n",
    "    return table\n",
    "\n",
    "\n",
    "def print_lcs(x,y,i,j,table):\n",
    "    result = ''\n",
    "    while i > 0 and j > 0:\n",
    "        if x[i-1] == y[j-1]:\n",
    "            result += x[i-1]\n",
    "            i -= 1\n",
    "            j -= 1\n",
    "        else:\n",
    "            if table[i][j-1] > table[i-1][j]:\n",
    "                j -= 1\n",
    "            else:\n",
    "                i -= 1\n",
    "    return result\n",
    "    \n",
    "x = 'abcdgh'\n",
    "y = 'abedfhr'\n",
    "x = \"AGGTAB\"\n",
    "y = \"GXTXAYB\"\n",
    "x = 'abcf'\n",
    "y = 'abcdaf'\n",
    "m = len(x)\n",
    "n = len(y)\n",
    "table = lcs(x,y,m,n)\n",
    "print_lcs(x,y,m,n,table)[::-1]"
   ]
  },
  {
   "cell_type": "markdown",
   "id": "48d282db",
   "metadata": {},
   "source": [
    "# 16. Shortest common supersequence(len)"
   ]
  },
  {
   "cell_type": "code",
   "execution_count": 27,
   "id": "ce60a198",
   "metadata": {},
   "outputs": [
    {
     "name": "stdout",
     "output_type": "stream",
     "text": [
      "9\n"
     ]
    }
   ],
   "source": [
    "# using already solved problem\n",
    "def lcs(x,y,m,n):\n",
    "    table = [[0 for i in range(n+1)] for i in range(m+1)]\n",
    "    \n",
    "    for i in range(1,m+1):\n",
    "        for j in range(1,n+1):\n",
    "            if x[i-1] == y[j-1]:\n",
    "                table[i][j] = 1 + table[i-1][j-1]\n",
    "            else:\n",
    "                table[i][j] = max(table[i-1][j],table[i][j-1])\n",
    "    return table[m][n]\n",
    "\n",
    "x = 'geek'\n",
    "y = 'eke'\n",
    "# Shortest common supersequence: geeke\n",
    "x = 'AGGTAB'\n",
    "y = 'GXTXAYB'\n",
    "# Shortest common supersequence: AGGXTXAYB\n",
    "m = len(x)\n",
    "n = len(y)\n",
    "table = lcs(x,y,m,n)\n",
    "print(m+n-lcs(x,y,m,n))"
   ]
  },
  {
   "cell_type": "markdown",
   "id": "b7909199",
   "metadata": {},
   "source": [
    "# 17. Minimum no. of insertion and deletion for converting str. a => b"
   ]
  },
  {
   "cell_type": "code",
   "execution_count": 8,
   "id": "54da8f3b",
   "metadata": {},
   "outputs": [
    {
     "name": "stdout",
     "output_type": "stream",
     "text": [
      "Minimum no. of deletion 2\n",
      "Minimum no. of insertion 1\n"
     ]
    }
   ],
   "source": [
    "# using already solved problem\n",
    "def lcs(x,y,m,n):\n",
    "    table = [[0 for i in range(n+1)] for i in range(m+1)]\n",
    "    \n",
    "    for i in range(1,m+1):\n",
    "        for j in range(1,n+1):\n",
    "            if x[i-1] == y[j-1]:\n",
    "                table[i][j] = 1 + table[i-1][j-1]\n",
    "            else:\n",
    "                table[i][j] = max(table[i-1][j],table[i][j-1])\n",
    "    return table[m][n]\n",
    "    \n",
    "    \n",
    "a = 'heap'\n",
    "b = 'pea'\n",
    "m = len(a)\n",
    "n = len(b)\n",
    "lcs_len = lcs(a,b,m,n)\n",
    "print('Minimum no. of deletion',m-lcs_len)\n",
    "print('Minimum no. of insertion',n-lcs_len)"
   ]
  },
  {
   "cell_type": "markdown",
   "id": "ccbb7039",
   "metadata": {},
   "source": [
    "# 18. longest palindromic subsequence"
   ]
  },
  {
   "cell_type": "code",
   "execution_count": 9,
   "id": "8245d536",
   "metadata": {},
   "outputs": [
    {
     "name": "stdout",
     "output_type": "stream",
     "text": [
      "5\n"
     ]
    }
   ],
   "source": [
    "# using already solved problem\n",
    "def lcs(x,y,m,n):\n",
    "    table = [[0 for i in range(n+1)] for i in range(m+1)]\n",
    "    \n",
    "    for i in range(1,m+1):\n",
    "        for j in range(1,n+1):\n",
    "            if x[i-1] == y[j-1]:\n",
    "                table[i][j] = 1 + table[i-1][j-1]\n",
    "            else:\n",
    "                table[i][j] = max(table[i-1][j],table[i][j-1])\n",
    "    return table[m][n]\n",
    "\n",
    "a = 'agbcba'\n",
    "m = len(a)\n",
    "print(lcs(a,a[::-1],m,m))"
   ]
  },
  {
   "cell_type": "markdown",
   "id": "b9d4fce6",
   "metadata": {},
   "source": [
    "# 19. Minimum no. of deletion to make a string palindrome "
   ]
  },
  {
   "cell_type": "code",
   "execution_count": 13,
   "id": "6ff7ad5e",
   "metadata": {},
   "outputs": [
    {
     "name": "stdout",
     "output_type": "stream",
     "text": [
      "1\n"
     ]
    }
   ],
   "source": [
    "# using already solved problem\n",
    "def lcs(x,y,m,n):\n",
    "    table = [[0 for i in range(n+1)] for i in range(m+1)]\n",
    "    \n",
    "    for i in range(1,m+1):\n",
    "        for j in range(1,n+1):\n",
    "            if x[i-1] == y[j-1]:\n",
    "                table[i][j] = 1 + table[i-1][j-1]\n",
    "            else:\n",
    "                table[i][j] = max(table[i-1][j],table[i][j-1])\n",
    "    return table[m][n]\n",
    "\n",
    "a = 'agbcba'\n",
    "m = len(a)\n",
    "lps = lcs(a,a[::-1],m,m)\n",
    "print(m-lps)"
   ]
  },
  {
   "cell_type": "markdown",
   "id": "37209027",
   "metadata": {},
   "source": [
    "# 20. Print shortest common supersequence"
   ]
  },
  {
   "cell_type": "code",
   "execution_count": 28,
   "id": "13ccd7cd",
   "metadata": {},
   "outputs": [
    {
     "data": {
      "text/plain": [
       "'acbcdaf'"
      ]
     },
     "execution_count": 28,
     "metadata": {},
     "output_type": "execute_result"
    }
   ],
   "source": [
    "# using already solved problem\n",
    "def lcs(x,y,m,n):\n",
    "    table = [[0 for i in range(n+1)] for i in range(m+1)]\n",
    "    \n",
    "    for i in range(1,m+1):\n",
    "        for j in range(1,n+1):\n",
    "            if x[i-1] == y[j-1]:\n",
    "                table[i][j] = 1 + table[i-1][j-1]\n",
    "            else:\n",
    "                table[i][j] = max(table[i-1][j],table[i][j-1])\n",
    "    return table\n",
    "\n",
    "x = 'abcpde'\n",
    "y = 'zbcvdy'\n",
    "x = 'acbcf'\n",
    "y = 'abcdaf'\n",
    "m = len(x)\n",
    "n = len(y)\n",
    "t = lcs(x,y,m,n)\n",
    "# print(t)\n",
    "i = m\n",
    "j = n\n",
    "result = ''\n",
    "\n",
    "while i > 0 and j > 0:\n",
    "    \n",
    "    if x[i-1] == y[j-1]:\n",
    "        result += x[i-1]\n",
    "        i -= 1\n",
    "        j -= 1\n",
    "    else:\n",
    "        if t[i][j-1] > t[i-1][j]:\n",
    "            result += y[j-1]\n",
    "            j -= 1\n",
    "        else:\n",
    "            result += x[i-1]\n",
    "            i -= 1\n",
    "            \n",
    "while i > 0:\n",
    "    result += x[i-1]\n",
    "    i -= 1\n",
    "while j > 0:\n",
    "    result += y[j-1]\n",
    "    j -= 1\n",
    "    \n",
    "result[::-1]"
   ]
  },
  {
   "cell_type": "markdown",
   "id": "f506f85f",
   "metadata": {},
   "source": [
    "# 21. Longest repeating subsequence"
   ]
  },
  {
   "cell_type": "code",
   "execution_count": 30,
   "id": "34e26398",
   "metadata": {},
   "outputs": [
    {
     "data": {
      "text/plain": [
       "3"
      ]
     },
     "execution_count": 30,
     "metadata": {},
     "output_type": "execute_result"
    }
   ],
   "source": [
    "def lrs(x,y,m,n):\n",
    "    table = [[0 for i in range(n+1)] for i in range(m+1)]\n",
    "    \n",
    "    for i in range(1,m+1):\n",
    "        for j in range(1,n+1):\n",
    "            # onloy variation is i != j\n",
    "            if x[i-1] == y[j-1] and i != j:\n",
    "                table[i][j] = 1 + table[i-1][j-1]\n",
    "            else:\n",
    "                table[i][j] = max(table[i-1][j],table[i][j-1])\n",
    "    return table[m][n]\n",
    "\n",
    "x = 'AABEBCDD'\n",
    "y = 'AABEBCDD'\n",
    "m = len(x)\n",
    "n = len(y)\n",
    "lrs(x,y,m,n)"
   ]
  },
  {
   "cell_type": "markdown",
   "id": "708656f6",
   "metadata": {},
   "source": [
    "# 22. Sequence pattern matching using LCS. (It can also be done by using two pointers O(n) which is better.)"
   ]
  },
  {
   "cell_type": "code",
   "execution_count": 4,
   "id": "860b41b7",
   "metadata": {},
   "outputs": [
    {
     "name": "stdout",
     "output_type": "stream",
     "text": [
      "True\n"
     ]
    }
   ],
   "source": [
    "def lcs(x,y,m,n):\n",
    "    table = [[0 for i in range(n+1)] for i in range(m+1)]\n",
    "    \n",
    "    for i in range(1,m+1):\n",
    "        for j in range(1,n+1):\n",
    "            if x[i-1] == y[j-1]:\n",
    "                table[i][j] = 1 + table[i-1][j-1]\n",
    "            else:\n",
    "                table[i][j] = max(table[i-1][j],table[i][j-1])\n",
    "    return table[m][n]\n",
    "a = 'AXY'\n",
    "b = 'ADXCPY'\n",
    "# x = \"AGGTAB\"\n",
    "# y = \"GXTXAYB\"\n",
    "m = len(a)\n",
    "n = len(b)\n",
    "lcs_len = lcs(a,b,m,n)\n",
    "print(lcs_len == len(a))"
   ]
  },
  {
   "cell_type": "markdown",
   "id": "db9e556e",
   "metadata": {},
   "source": [
    "# 23. Minimum no. of insertion to make a string palindrome "
   ]
  },
  {
   "cell_type": "raw",
   "id": "6b7bf71a",
   "metadata": {},
   "source": [
    "Same as Minimum no. of deletion to make a string palindrome which is already done."
   ]
  },
  {
   "cell_type": "markdown",
   "id": "f3edcf5d",
   "metadata": {},
   "source": [
    "# 24. Matrix chain multiplication calc min cost"
   ]
  },
  {
   "cell_type": "code",
   "execution_count": null,
   "id": "44ea874e",
   "metadata": {},
   "outputs": [],
   "source": [
    "arr = [40,20,30,10,30]\n",
    "\n",
    "\n",
    "i = 1\n",
    "k = i\n",
    "j = len(arr)-1\n",
    "def solve(arr,i,j):\n",
    "    \n",
    "    if i >= j:\n",
    "        return 0\n",
    "    minimum = float('inf')\n",
    "    for k in range(i,j):\n",
    "        \n",
    "        temp_ans = solve(arr,i,k) + solve(arr,k+1,j) + arr[i-1] + arr[k] + arr[j]\n",
    "        minimum = min(temp_ans,minimum)\n",
    "    return minimum\n",
    "solve(arr,i,j)\n",
    "    "
   ]
  },
  {
   "cell_type": "code",
   "execution_count": null,
   "id": "6d52e425",
   "metadata": {},
   "outputs": [],
   "source": []
  }
 ],
 "metadata": {
  "kernelspec": {
   "display_name": "Python 3 (ipykernel)",
   "language": "python",
   "name": "python3"
  },
  "language_info": {
   "codemirror_mode": {
    "name": "ipython",
    "version": 3
   },
   "file_extension": ".py",
   "mimetype": "text/x-python",
   "name": "python",
   "nbconvert_exporter": "python",
   "pygments_lexer": "ipython3",
   "version": "3.8.8"
  }
 },
 "nbformat": 4,
 "nbformat_minor": 5
}
