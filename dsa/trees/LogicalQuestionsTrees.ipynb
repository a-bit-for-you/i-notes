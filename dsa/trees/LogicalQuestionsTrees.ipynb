{
 "cells": [
  {
   "cell_type": "markdown",
   "id": "ad4d6a61",
   "metadata": {},
   "source": [
    "# 1. Validate BST"
   ]
  },
  {
   "cell_type": "code",
   "execution_count": null,
   "id": "06604481",
   "metadata": {},
   "outputs": [],
   "source": [
    "# Definition for a binary tree node.\n",
    "# class TreeNode:\n",
    "#     def __init__(self, val=0, left=None, right=None):\n",
    "#         self.val = val\n",
    "#         self.left = left\n",
    "#         self.right = right\n",
    "class Solution:\n",
    "    def isValidBST(self, root: Optional[TreeNode]) -> bool:\n",
    "        \n",
    "        def validate(node, left, right):\n",
    "            \n",
    "            if not node:\n",
    "                return True\n",
    "            \n",
    "            if not (node.val > left and node.val < right):\n",
    "                return False\n",
    "            \n",
    "            return (validate(node.left, left, node.val)\n",
    "                    and validate(node.right, node.val, right))\n",
    "        return validate(root, float('-inf'), float('inf'))"
   ]
  },
  {
   "cell_type": "markdown",
   "id": "0031ca86",
   "metadata": {},
   "source": [
    "# 2. Trim BST"
   ]
  },
  {
   "cell_type": "code",
   "execution_count": null,
   "id": "ade6b98e",
   "metadata": {},
   "outputs": [],
   "source": [
    "# Definition for a binary tree node.\n",
    "# class TreeNode:\n",
    "#     def __init__(self, val=0, left=None, right=None):\n",
    "#         self.val = val\n",
    "#         self.left = left\n",
    "#         self.right = right\n",
    "class Solution:\n",
    "    def trimBST(self, root: Optional[TreeNode], low: int, high: int) -> Optional[TreeNode]:\n",
    "        \n",
    "        if not root:\n",
    "            return None\n",
    "        \n",
    "        if root.val > high:\n",
    "            return self.trimBST(root.left, low, high)\n",
    "        if root.val < low:\n",
    "            return self.trimBST(root.right, low, high)\n",
    "        \n",
    "        \n",
    "        root.left = self.trimBST(root.left, low, high)\n",
    "        root.right = self.trimBST(root.right, low, high)\n",
    "        \n",
    "        return root"
   ]
  }
 ],
 "metadata": {
  "kernelspec": {
   "display_name": "Python 3 (ipykernel)",
   "language": "python",
   "name": "python3"
  },
  "language_info": {
   "codemirror_mode": {
    "name": "ipython",
    "version": 3
   },
   "file_extension": ".py",
   "mimetype": "text/x-python",
   "name": "python",
   "nbconvert_exporter": "python",
   "pygments_lexer": "ipython3",
   "version": "3.8.8"
  }
 },
 "nbformat": 4,
 "nbformat_minor": 5
}
