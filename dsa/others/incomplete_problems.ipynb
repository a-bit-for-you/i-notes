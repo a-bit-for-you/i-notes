{
 "cells": [
  {
   "cell_type": "code",
   "execution_count": 16,
   "id": "03151d4f",
   "metadata": {},
   "outputs": [
    {
     "data": {
      "text/plain": [
       "False"
      ]
     },
     "execution_count": 16,
     "metadata": {},
     "output_type": "execute_result"
    }
   ],
   "source": [
    "def backspace(s1, s2):\n",
    "    \n",
    "    i = 0\n",
    "    len_s1 = len(s1)\n",
    "    while i < len_s1 and i< len(s2):\n",
    "        if s1[i] == s2[i] and s1[i] != '#':\n",
    "            i += 1\n",
    "            continue\n",
    "        cnt = 0\n",
    "        j = i\n",
    "        while s1[j] == '#' and j < len_s1:\n",
    "            cnt += 1\n",
    "            j += 1\n",
    "        if cnt !=0:\n",
    "            i += cnt * 2\n",
    "        else:\n",
    "            i += 1\n",
    "        if i >= len_s1:\n",
    "            break\n",
    "        if s1[i] == '#' or s2[i] == '#':\n",
    "            continue\n",
    "        if s1[i] != s2[i]:\n",
    "            return False\n",
    "    return True\n",
    "\n",
    "\n",
    "# s1 = '#fe#d#cba'\n",
    "# s2 = '#fe##dcba'\n",
    "# print(s1, s2)\n",
    "# backspace(s1,s2)\n",
    "\n",
    "# s1 = \"ab#c\"\n",
    "# s2 = \"ad#c\"\n",
    "\n",
    "s1 = 'bxj##twc'\n",
    "s2 = 'bxo#j##tw'\n",
    "backspace(s1[::-1],s2[::-1])\n"
   ]
  },
  {
   "cell_type": "code",
   "execution_count": null,
   "id": "24c99d3d",
   "metadata": {},
   "outputs": [],
   "source": []
  },
  {
   "cell_type": "code",
   "execution_count": null,
   "id": "54abea85",
   "metadata": {},
   "outputs": [],
   "source": []
  },
  {
   "cell_type": "code",
   "execution_count": null,
   "id": "13b6e59b",
   "metadata": {},
   "outputs": [],
   "source": []
  },
  {
   "cell_type": "code",
   "execution_count": null,
   "id": "23ec415c",
   "metadata": {},
   "outputs": [],
   "source": []
  },
  {
   "cell_type": "code",
   "execution_count": null,
   "id": "8d00a361",
   "metadata": {},
   "outputs": [],
   "source": []
  },
  {
   "cell_type": "code",
   "execution_count": null,
   "id": "4031e23d",
   "metadata": {},
   "outputs": [],
   "source": []
  },
  {
   "cell_type": "code",
   "execution_count": null,
   "id": "e95d0a8c",
   "metadata": {},
   "outputs": [],
   "source": []
  },
  {
   "cell_type": "code",
   "execution_count": 5,
   "id": "d98cd25f",
   "metadata": {},
   "outputs": [
    {
     "name": "stdout",
     "output_type": "stream",
     "text": [
      "#fe#d#cba #fe##dcba\n"
     ]
    },
    {
     "data": {
      "text/plain": [
       "True"
      ]
     },
     "execution_count": 5,
     "metadata": {},
     "output_type": "execute_result"
    }
   ],
   "source": [
    "def backspace(s1, s2):\n",
    "    \n",
    "    i = 0\n",
    "    len_s1 = len(s1)\n",
    "    while i < len_s1:\n",
    "        if s1[i] == s2[i] and s1[i] != '#':\n",
    "            i += 1\n",
    "            continue\n",
    "        cnt = 0\n",
    "        j = i\n",
    "        while s1[j] == '#' and j < len_s1:\n",
    "            cnt += 1\n",
    "            j += 1\n",
    "        if cnt !=0:\n",
    "            i += cnt * 2\n",
    "        else:\n",
    "            i += 1\n",
    "        if s1[i] == '#' or s2[i] == '#':\n",
    "            continue\n",
    "        if s1[i] != s2[i]:\n",
    "            return False\n",
    "    return True\n",
    "\n",
    "\n",
    "s1 = '#fe#d#cba'\n",
    "s2 = '#fe##dcba'\n",
    "print(s1, s2)\n",
    "backspace(s1,s2)\n",
    "\n",
    "# s1 = \"ab#c\"\n",
    "# s2 = \"ad#c\"\n",
    "# backspace(s1[::-1],s2[::-1])\n"
   ]
  },
  {
   "cell_type": "code",
   "execution_count": null,
   "id": "14bd3fe4",
   "metadata": {},
   "outputs": [],
   "source": []
  },
  {
   "cell_type": "code",
   "execution_count": null,
   "id": "6ca45f34",
   "metadata": {},
   "outputs": [],
   "source": []
  },
  {
   "cell_type": "code",
   "execution_count": null,
   "id": "81d6b44e",
   "metadata": {},
   "outputs": [],
   "source": []
  },
  {
   "cell_type": "code",
   "execution_count": null,
   "id": "e311f64a",
   "metadata": {},
   "outputs": [],
   "source": []
  },
  {
   "cell_type": "code",
   "execution_count": null,
   "id": "f68fdbc6",
   "metadata": {},
   "outputs": [],
   "source": []
  },
  {
   "cell_type": "code",
   "execution_count": null,
   "id": "60c14c3f",
   "metadata": {},
   "outputs": [],
   "source": []
  },
  {
   "cell_type": "code",
   "execution_count": null,
   "id": "336a8bf1",
   "metadata": {},
   "outputs": [],
   "source": []
  },
  {
   "cell_type": "code",
   "execution_count": null,
   "id": "d2991549",
   "metadata": {},
   "outputs": [],
   "source": []
  },
  {
   "cell_type": "code",
   "execution_count": null,
   "id": "c14b2f7d",
   "metadata": {},
   "outputs": [],
   "source": [
    "from collections import defaultdict\n",
    "\n",
    "def count_occurrence(nums):\n",
    "    count_nums = {}\n",
    "    for i in nums:\n",
    "        if i in count_nums:\n",
    "            count_nums[i] += 1\n",
    "        else:\n",
    "            count_nums[i] = 1\n",
    "    return count_nums\n",
    "\n",
    "    \n",
    "def check_valid(count_nums, count_mini_nums):\n",
    "    for x,y in count_mini_nums.items():\n",
    "        if x in count_nums and y > count_nums[x]:\n",
    "            #if y != count_nums[x]:\n",
    "            return False\n",
    "    return True\n",
    "    \n",
    "\n",
    "def three_sum(nums):\n",
    "    s = set()\n",
    "    dic = {}\n",
    "\n",
    "    count_nums = count_occurrence(nums)\n",
    "    for i in range(len(nums)):\n",
    "        for j in range(len(nums)):\n",
    "            dic[(nums[i] + nums[j])] = (i, j)\n",
    "    \n",
    "    for i in range(len(nums)):\n",
    "        complement = 0 - nums[i]\n",
    "        if complement in dic:\n",
    "            li = [li[dic[complement][0]], li[dic[complement][1]], nums[i]]\n",
    "            \n",
    "            li.sort()\n",
    "            print(li)\n",
    "            valid = check_valid(count_nums, count_occurrence(li))\n",
    "            if valid: \n",
    "                s.add(tuple(li))\n",
    "        else:\n",
    "            dic[nums[i]] = (i)\n",
    "            \n",
    "    return list(s)\n",
    "# nums = [-1,0,1,2,-1,-4]\n",
    "nums = [3,0,-2,-1,1,2]\n",
    "three_sum(nums)"
   ]
  },
  {
   "cell_type": "code",
   "execution_count": null,
   "id": "33f9c305",
   "metadata": {},
   "outputs": [],
   "source": []
  },
  {
   "cell_type": "code",
   "execution_count": null,
   "id": "f4ea6e8a",
   "metadata": {},
   "outputs": [],
   "source": []
  },
  {
   "cell_type": "code",
   "execution_count": null,
   "id": "7646efa8",
   "metadata": {},
   "outputs": [],
   "source": []
  },
  {
   "cell_type": "code",
   "execution_count": 18,
   "id": "89f29367",
   "metadata": {},
   "outputs": [
    {
     "name": "stdout",
     "output_type": "stream",
     "text": [
      "{3: 1, 0: 1, -2: 1, -1: 1, 1: 1, 2: 1}\n",
      "{-1: 1, 0: 1, 1: 1}\n"
     ]
    },
    {
     "data": {
      "text/plain": [
       "True"
      ]
     },
     "execution_count": 18,
     "metadata": {},
     "output_type": "execute_result"
    }
   ],
   "source": [
    "def check_valid(count_nums, count_mini_nums):\n",
    "    for x,y in count_mini_nums.items():\n",
    "        if x in count_nums and y > count_nums[x]:\n",
    "            #if y != count_nums[x]:\n",
    "            return False\n",
    "    return True\n",
    "    \n",
    "\n",
    "def count_occurrence(nums):\n",
    "    count_nums = {}\n",
    "    for i in nums:\n",
    "        if i in count_nums:\n",
    "            count_nums[i] += 1\n",
    "        else:\n",
    "            count_nums[i] = 1\n",
    "    return count_nums\n",
    "\n",
    "nums = [3,0,-2,-1,1,2]\n",
    "li = [-1,0,1]\n",
    "\n",
    "print(count_occurrence(nums))\n",
    "print(count_occurrence(li))\n",
    "check_valid(count_occurrence(nums), count_occurrence(li))"
   ]
  },
  {
   "cell_type": "code",
   "execution_count": 11,
   "id": "1ae3da71",
   "metadata": {},
   "outputs": [
    {
     "name": "stdout",
     "output_type": "stream",
     "text": [
      "{-1: 2, 0: 1, 1: 1, 2: 1, -4: 1}\n",
      "{-1: 1, 0: 1, 1: 1}\n"
     ]
    },
    {
     "data": {
      "text/plain": [
       "False"
      ]
     },
     "execution_count": 11,
     "metadata": {},
     "output_type": "execute_result"
    }
   ],
   "source": [
    "def check_valid(count_nums, count_mini_nums):\n",
    "    for x,y in count_mini_nums.items():\n",
    "        if x in count_nums:\n",
    "            if y != count_nums[x]:\n",
    "                return False\n",
    "    return True\n",
    "    \n",
    "\n",
    "def count_occurrence(nums):\n",
    "    count_nums = {}\n",
    "    for i in nums:\n",
    "        if i in count_nums:\n",
    "            count_nums[i] += 1\n",
    "        else:\n",
    "            count_nums[i] = 1\n",
    "    return count_nums\n",
    "\n",
    "nums = [-1,0,1,2,-1,-4]\n",
    "\n",
    "li = [-1, 0, 1]\n",
    "print(count_occurrence(nums))\n",
    "print(count_occurrence(li))\n",
    "check_valid(count_occurrence(nums), count_occurrence(li))"
   ]
  },
  {
   "cell_type": "code",
   "execution_count": null,
   "id": "5f60b22e",
   "metadata": {},
   "outputs": [],
   "source": []
  },
  {
   "cell_type": "code",
   "execution_count": null,
   "id": "7caecdc2",
   "metadata": {},
   "outputs": [],
   "source": []
  },
  {
   "cell_type": "code",
   "execution_count": null,
   "id": "ddf465d6",
   "metadata": {},
   "outputs": [],
   "source": []
  },
  {
   "cell_type": "code",
   "execution_count": null,
   "id": "a1a3822e",
   "metadata": {},
   "outputs": [],
   "source": []
  },
  {
   "cell_type": "code",
   "execution_count": 29,
   "id": "7d0a7e2d",
   "metadata": {},
   "outputs": [
    {
     "name": "stdout",
     "output_type": "stream",
     "text": [
      "[-2, -1, 3]\n",
      "[-2, 0, 2]\n",
      "[-2, 0, 2]\n",
      "[-1, -1, 2]\n",
      "[-2, 1, 1]\n",
      "[-1, -1, 2]\n"
     ]
    },
    {
     "data": {
      "text/plain": [
       "[(-2, -1, 3), (-2, 0, 2)]"
      ]
     },
     "execution_count": 29,
     "metadata": {},
     "output_type": "execute_result"
    }
   ],
   "source": [
    "from collections import defaultdict\n",
    "\n",
    "def count_occurrence(nums):\n",
    "    count_nums = {}\n",
    "    for i in nums:\n",
    "        if i in count_nums:\n",
    "            count_nums[i] += 1\n",
    "        else:\n",
    "            count_nums[i] = 1\n",
    "    return count_nums\n",
    "    \n",
    "    \n",
    "def check_valid(count_nums, count_mini_nums):\n",
    "    for x,y in count_mini_nums.items():\n",
    "        if x in count_nums and y > count_nums[x]:\n",
    "            #if y != count_nums[x]:\n",
    "            return False\n",
    "    return True\n",
    "    \n",
    "\n",
    "def three_sum(nums):\n",
    "    s = set()\n",
    "    dic = {}\n",
    "\n",
    "    count_nums = count_occurrence(nums)\n",
    "    for i in range(len(nums)):\n",
    "        for j in range(len(nums)):\n",
    "            dic[(nums[i] + nums[j])] = (nums[i], nums[j])\n",
    "    \n",
    "    for i in range(len(nums)):\n",
    "        complement = 0 - nums[i]\n",
    "        if complement in dic:\n",
    "            li = [dic[complement][0], dic[complement][1], nums[i]]\n",
    "            \n",
    "            li.sort()\n",
    "            print(li)\n",
    "            valid = check_valid(count_nums, count_occurrence(li))\n",
    "            if valid: \n",
    "                s.add(tuple(li))\n",
    "#         else:\n",
    "#             dic[nums[i]] = (i,)\n",
    "    return list(s)\n",
    "# nums = [-1,0,1,2,-1,-4]\n",
    "nums = [3,0,-2,-1,1,2]\n",
    "three_sum(nums)"
   ]
  },
  {
   "cell_type": "code",
   "execution_count": 35,
   "id": "12525200",
   "metadata": {},
   "outputs": [
    {
     "name": "stdout",
     "output_type": "stream",
     "text": [
      "[[-1, 0, 1], [-1, -1, 2]]\n"
     ]
    }
   ],
   "source": [
    "result = []\n",
    "\n",
    "for i in range(len(nums)):\n",
    "    for j in range(i+1 , len(nums)):\n",
    "        sum = nums[i] + nums[j]\n",
    "        comp = 0 - sum\n",
    "        if comp in nums and nums.index(comp) not in [i, j]:\n",
    "            inList = [nums[i], nums[j], comp]\n",
    "            inList.sort()\n",
    "            if inList not in result:\n",
    "                result.append(inList)\n",
    "print(result)\n",
    "            "
   ]
  },
  {
   "cell_type": "code",
   "execution_count": null,
   "id": "9392b229",
   "metadata": {},
   "outputs": [],
   "source": []
  },
  {
   "cell_type": "code",
   "execution_count": null,
   "id": "6997fc59",
   "metadata": {},
   "outputs": [],
   "source": []
  },
  {
   "cell_type": "code",
   "execution_count": null,
   "id": "a178a67c",
   "metadata": {},
   "outputs": [],
   "source": []
  },
  {
   "cell_type": "code",
   "execution_count": 29,
   "id": "d45d1600",
   "metadata": {},
   "outputs": [
    {
     "name": "stdout",
     "output_type": "stream",
     "text": [
      "[]\n",
      "[-1, 0]\n"
     ]
    },
    {
     "data": {
      "text/plain": [
       "0"
      ]
     },
     "execution_count": 29,
     "metadata": {},
     "output_type": "execute_result"
    }
   ],
   "source": [
    "def maxLen(n, arr):\n",
    "    #Code here\n",
    "    dic = defaultdict(int)\n",
    "\n",
    "    start = 0\n",
    "    end = -1\n",
    "    current_sum = 0\n",
    "    length = 0\n",
    "\n",
    "    for i in range(n):\n",
    "        current_sum += arr[i]\n",
    "        \n",
    "        if current_sum == 0:\n",
    "            start = 0\n",
    "            end = i\n",
    "            print(arr[start:end])\n",
    "            # length = max(length, end - start + 1)\n",
    "        \n",
    "        # same as previous question current_sum - 0 bhi likh sakte the\n",
    "        if current_sum in dic:\n",
    "            start = dic[current_sum] + 1\n",
    "            end = i\n",
    "            print(arr[start:end])\n",
    "            # length = max(length, end - start + 1)\n",
    "        else:\n",
    "            dic[current_sum] = i\n",
    "    return length\n",
    "\n",
    "maxLen(len(nums), [-4, -1, -1, 0, 1, 2])"
   ]
  },
  {
   "cell_type": "code",
   "execution_count": null,
   "id": "4724744a",
   "metadata": {},
   "outputs": [],
   "source": []
  },
  {
   "cell_type": "code",
   "execution_count": null,
   "id": "6c0df492",
   "metadata": {},
   "outputs": [],
   "source": []
  },
  {
   "cell_type": "code",
   "execution_count": null,
   "id": "3d7a0cfb",
   "metadata": {},
   "outputs": [],
   "source": []
  },
  {
   "cell_type": "code",
   "execution_count": 18,
   "id": "8f5a3c2e",
   "metadata": {},
   "outputs": [
    {
     "data": {
      "text/plain": [
       "[[1, 4], [2, 3], [5]]"
      ]
     },
     "execution_count": 18,
     "metadata": {},
     "output_type": "execute_result"
    }
   ],
   "source": [
    "\n",
    "def three_sum(numbers, target):\n",
    "    \n",
    "    if target == 0:\n",
    "        return [[]]\n",
    "    if target < 0:\n",
    "        return None\n",
    "    result = []\n",
    "    temp = numbers.copy()\n",
    "    for num in numbers:\n",
    "        temp.remove(num)\n",
    "        remainder = target - num\n",
    "        \n",
    "        combination = three_sum(temp, remainder)\n",
    "        if combination != None:\n",
    "            ways = list(map(lambda x:[num] + x, combination ))\n",
    "            result = result + ways\n",
    "        \n",
    "    return result\n",
    "    \n",
    "\n",
    "    \n",
    "numbers = [-1,0,1,2,-1,-4]\n",
    "\n",
    "target = 0\n",
    "\n",
    "three_sum([1,2,3,4,5,6,7,8], 5)\n",
    "# three_sum(numbers, target)"
   ]
  },
  {
   "cell_type": "code",
   "execution_count": null,
   "id": "f08c461a",
   "metadata": {},
   "outputs": [],
   "source": []
  }
 ],
 "metadata": {
  "kernelspec": {
   "display_name": "Python 3 (ipykernel)",
   "language": "python",
   "name": "python3"
  },
  "language_info": {
   "codemirror_mode": {
    "name": "ipython",
    "version": 3
   },
   "file_extension": ".py",
   "mimetype": "text/x-python",
   "name": "python",
   "nbconvert_exporter": "python",
   "pygments_lexer": "ipython3",
   "version": "3.8.8"
  }
 },
 "nbformat": 4,
 "nbformat_minor": 5
}
