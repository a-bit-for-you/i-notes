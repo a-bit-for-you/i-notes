{
 "cells": [
  {
   "cell_type": "code",
   "execution_count": 5,
   "id": "b5c18517-a616-47e7-a7e7-dcd98d568e7e",
   "metadata": {},
   "outputs": [
    {
     "data": {
      "text/plain": [
       "2"
      ]
     },
     "execution_count": 5,
     "metadata": {},
     "output_type": "execute_result"
    }
   ],
   "source": [
    "li = [6,3,1,3,5]\n",
    "res = 0\n"
   ]
  },
  {
   "cell_type": "code",
   "execution_count": null,
   "id": "a909cdb7-8e17-4c31-92c9-0dd51adda1c6",
   "metadata": {},
   "outputs": [],
   "source": []
  },
  {
   "cell_type": "code",
   "execution_count": null,
   "id": "26b92427-c66e-43a2-bceb-ed6f9a0a9e27",
   "metadata": {},
   "outputs": [],
   "source": []
  },
  {
   "cell_type": "code",
   "execution_count": null,
   "id": "74af8222-d25a-4517-bf7f-4676978c464a",
   "metadata": {},
   "outputs": [],
   "source": []
  },
  {
   "cell_type": "code",
   "execution_count": null,
   "id": "20492dc4-413e-4d67-9e0c-d468a40dccfc",
   "metadata": {},
   "outputs": [],
   "source": []
  },
  {
   "cell_type": "code",
   "execution_count": 1,
   "id": "e1b7766d-fdac-4e9e-b0af-6ba6e0ed7e92",
   "metadata": {},
   "outputs": [
    {
     "data": {
      "text/plain": [
       "[[1, 0, 1], [0, 0, 0], [1, 0, 1]]"
      ]
     },
     "execution_count": 1,
     "metadata": {},
     "output_type": "execute_result"
    }
   ],
   "source": [
    "matrix = [[1,1,1],\n",
    "          [1,0,1],\n",
    "          [1,1,1]]\n",
    "# matrix = [[0,1,2,0],\n",
    "#           [3,4,5,2],\n",
    "#           [1,3,1,5]]\n",
    "col_len = len(matrix)\n",
    "row_len = len(matrix[0])\n",
    "for i in range(col_len):\n",
    "    for j in range(row_len):\n",
    "        if matrix[i][j] == 0:\n",
    "            for x in range(row_len):\n",
    "                if matrix[i][x] != 0:\n",
    "                    matrix[i][x] = float('inf')\n",
    "                    \n",
    "            for y in range(col_len):\n",
    "                if matrix[y][j] != 0:\n",
    "                    matrix[y][j] = float('inf')\n",
    "            break\n",
    "\n",
    "for i in range(col_len):\n",
    "    for j in range(row_len):\n",
    "        if matrix[i][j] == float('inf'):\n",
    "            matrix[i][j] = 0\n",
    "            \n",
    "            \n",
    "matrix            "
   ]
  },
  {
   "cell_type": "code",
   "execution_count": 2,
   "id": "6bdc3298-5f36-4696-afbb-9411ec3ac80c",
   "metadata": {},
   "outputs": [
    {
     "name": "stdout",
     "output_type": "stream",
     "text": [
      "[1, 0, 1]\n",
      "[0, 0, 0]\n",
      "[1, 0, 1]\n"
     ]
    }
   ],
   "source": [
    "for i in matrix:\n",
    "    print(i)"
   ]
  },
  {
   "cell_type": "code",
   "execution_count": 102,
   "id": "e75f167f-bcf0-4861-8607-4c42b2935223",
   "metadata": {},
   "outputs": [
    {
     "data": {
      "text/plain": [
       "inf"
      ]
     },
     "execution_count": 102,
     "metadata": {},
     "output_type": "execute_result"
    }
   ],
   "source": [
    "float('inf')"
   ]
  },
  {
   "cell_type": "code",
   "execution_count": null,
   "id": "2a9115a9-30aa-465f-9310-a6d64cda1426",
   "metadata": {},
   "outputs": [],
   "source": []
  },
  {
   "cell_type": "code",
   "execution_count": null,
   "id": "bd302293-4658-4f69-9632-ff094caebea8",
   "metadata": {},
   "outputs": [],
   "source": []
  },
  {
   "cell_type": "code",
   "execution_count": 79,
   "id": "1b381d36-c69f-4788-a94c-a58d918b3b0c",
   "metadata": {},
   "outputs": [
    {
     "name": "stdout",
     "output_type": "stream",
     "text": [
      "0 3\n",
      "1 3\n",
      "2 3\n"
     ]
    },
    {
     "data": {
      "text/plain": [
       "[['a', 'a', 'a', 'a'], [3, 4, 5, 'a'], [1, 3, 1, 'a']]"
      ]
     },
     "execution_count": 79,
     "metadata": {},
     "output_type": "execute_result"
    }
   ],
   "source": [
    "# matrix = [[1,1,1],\n",
    "#           [1,0,1],\n",
    "#           [1,1,1]]\n",
    "matrix = [[0,1,2,0],\n",
    "          [3,4,5,2],\n",
    "          [1,3,1,5]]\n",
    "col_len = len(matrix)\n",
    "row_len = len(matrix[0])\n",
    "for i in range(col_len):\n",
    "    flag = False\n",
    "    for j in range(row_len):\n",
    "        if matrix[i][j] == 0:\n",
    "            # print(i,j)\n",
    "            flag = True\n",
    "            # break\n",
    "    if flag:\n",
    "        for x in range(row_len):\n",
    "            matrix[i][x] = 'a'\n",
    "            # print(i,x)\n",
    "        for y in range(col_len):\n",
    "            print(y,j)\n",
    "            matrix[y][j] = 'a'\n",
    "            \n",
    "matrix            "
   ]
  },
  {
   "cell_type": "code",
   "execution_count": 80,
   "id": "cf196840-f470-4495-87d6-5d4bba6f225a",
   "metadata": {},
   "outputs": [
    {
     "data": {
      "text/plain": [
       "[['a', 'a', 'a', 'a'], ['a', 4, 5, 2], ['a', 3, 1, 5]]"
      ]
     },
     "execution_count": 80,
     "metadata": {},
     "output_type": "execute_result"
    }
   ],
   "source": [
    "[['a', 'a', 'a', 'a'], \n",
    " [3, 4, 5, 'a'], \n",
    " [1, 3, 1, 'a']]"
   ]
  },
  {
   "cell_type": "code",
   "execution_count": null,
   "id": "de756cac-6c5e-428d-bb50-b5477cb4c302",
   "metadata": {},
   "outputs": [],
   "source": []
  },
  {
   "cell_type": "code",
   "execution_count": null,
   "id": "b449453c-9d50-4631-9b79-8141c2953ced",
   "metadata": {},
   "outputs": [],
   "source": [
    "def are_anagrams(s1, s2)\n",
    "\n",
    "\n",
    "print(are_anagrams(\"Listen\", \"Silent\")) "
   ]
  }
 ],
 "metadata": {
  "kernelspec": {
   "display_name": "Python 3 (ipykernel)",
   "language": "python",
   "name": "python3"
  },
  "language_info": {
   "codemirror_mode": {
    "name": "ipython",
    "version": 3
   },
   "file_extension": ".py",
   "mimetype": "text/x-python",
   "name": "python",
   "nbconvert_exporter": "python",
   "pygments_lexer": "ipython3",
   "version": "3.11.5"
  }
 },
 "nbformat": 4,
 "nbformat_minor": 5
}
