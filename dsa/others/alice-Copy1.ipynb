{
 "cells": [
  {
   "cell_type": "code",
   "execution_count": 2,
   "id": "901cb438",
   "metadata": {},
   "outputs": [
    {
     "data": {
      "text/plain": [
       "{(5, 7, 9, 11, 13), (13, 15, 17), (45,)}"
      ]
     },
     "execution_count": 2,
     "metadata": {},
     "output_type": "execute_result"
    }
   ],
   "source": [
    "def how_sum(target_sum, numbers, memo={}):\n",
    "    if target_sum in memo:\n",
    "        return memo[target_sum]\n",
    "    if target_sum == 0:\n",
    "        return [[]]\n",
    "    if target_sum < 0:\n",
    "        return None\n",
    "    \n",
    "    result = []\n",
    "    for num in numbers:\n",
    "        remainder = target_sum-num\n",
    "        remainder_sum = how_sum(remainder, numbers)\n",
    "        if remainder_sum!= None:\n",
    "            ways = list(map(lambda x:[num] + x, remainder_sum))\n",
    "            result = result + ways\n",
    "    memo[target_sum] = result\n",
    "    return result\n",
    "    \n",
    "\n",
    "# print(how_sum(45,[1, 3, 5, 7, 9, 11, 13, 15, 17, 19, 21, 23, 25, 27, 29, 31, 33, 35, 37, 39, 41, 43, 45], {}))\n",
    "# print(how_sum(10, [5,3,4,7], {}))\n",
    "# print(how_sum(7, [5,3,4,7], {}))\n",
    "\n",
    "ways = (how_sum(45,[3,5,7, 9, 11, 13, 15, 17, 19, 21, 23, 25, 27, 29, 31, 33, 35, 37, 39, 41, 43, 45],{}))\n",
    "# li = set()\n",
    "\n",
    "def check_seq(yo):\n",
    "    cnt = 0\n",
    "    for i in range(yo[0],yo[-1],2):\n",
    "        if not (i==yo[cnt]):\n",
    "            return False\n",
    "        cnt += 1\n",
    "    return True\n",
    "\n",
    "li = set()\n",
    "for i in ways:\n",
    "    i.sort()\n",
    "    if check_seq(i) and len(i) == len(set(i)):\n",
    "        li.add(tuple(i))\n",
    "li"
   ]
  },
  {
   "cell_type": "code",
   "execution_count": 39,
   "id": "6e33f57e",
   "metadata": {},
   "outputs": [
    {
     "data": {
      "text/plain": [
       "True"
      ]
     },
     "execution_count": 39,
     "metadata": {},
     "output_type": "execute_result"
    }
   ],
   "source": [
    "yo = (5, 7, 10, 11, 13)\n",
    "yo = [5, 5, 5, 15, 5, 5, 5]\n",
    "def check_seq(yo):\n",
    "    cnt = 0\n",
    "    for i in range(yo[0],yo[-1],2):\n",
    "        if not (i==yo[cnt]):\n",
    "            return False\n",
    "        cnt += 1\n",
    "    return True\n",
    "check_seq(yo)"
   ]
  },
  {
   "cell_type": "code",
   "execution_count": null,
   "id": "8b9ecb82",
   "metadata": {},
   "outputs": [],
   "source": []
  },
  {
   "cell_type": "code",
   "execution_count": null,
   "id": "5160bd8c",
   "metadata": {},
   "outputs": [],
   "source": []
  },
  {
   "cell_type": "code",
   "execution_count": null,
   "id": "065ed101",
   "metadata": {},
   "outputs": [],
   "source": []
  },
  {
   "cell_type": "code",
   "execution_count": 7,
   "id": "4f52a775",
   "metadata": {},
   "outputs": [
    {
     "name": "stdout",
     "output_type": "stream",
     "text": [
      "[[5, 5], [3, 3, 4], [3, 4, 3], [3, 7], [4, 3, 3], [7, 3]]\n"
     ]
    }
   ],
   "source": [
    "def how_sum(target_sum, numbers, memo={}):\n",
    "    if target_sum in memo:\n",
    "        return memo[target_sum]\n",
    "    if target_sum == 0:\n",
    "        return [[]]\n",
    "    if target_sum < 0:\n",
    "        return None\n",
    "    result = []\n",
    "    for num in numbers:\n",
    "        remainder = target_sum-num\n",
    "        remainder_sum = how_sum(remainder, numbers)\n",
    "        if remainder_sum!= None:\n",
    "            ways = list(map(lambda x:[num] + x, remainder_sum))\n",
    "            result = result + ways\n",
    "    memo[target_sum] = result\n",
    "    return result\n",
    "    \n",
    "\n",
    "# print(how_sum(45,[1, 3, 5, 7, 9, 11, 13, 15, 17, 19, 21, 23, 25, 27, 29, 31, 33, 35, 37, 39, 41, 43, 45], {}))\n",
    "# print(how_sum(45,[3,5,7, 9, 11, 13, 15, 17, 19, 21, 23, 25, 27, 29, 31, 33, 35, 37, 39, 41, 43, 45],{}))\n",
    "\n",
    "print(how_sum(10, [5,3,4,7]))\n",
    "# print(how_sum(7, [5,3,4,7]))"
   ]
  },
  {
   "cell_type": "code",
   "execution_count": 5,
   "id": "0c9589f0",
   "metadata": {},
   "outputs": [
    {
     "data": {
      "text/plain": [
       "[1, 3]"
      ]
     },
     "execution_count": 5,
     "metadata": {},
     "output_type": "execute_result"
    }
   ],
   "source": [
    "li = [1,2,3]\n",
    "li.remove(2)\n",
    "li"
   ]
  },
  {
   "cell_type": "code",
   "execution_count": null,
   "id": "dd085faf",
   "metadata": {},
   "outputs": [],
   "source": []
  },
  {
   "cell_type": "code",
   "execution_count": null,
   "id": "9642bfb7",
   "metadata": {},
   "outputs": [],
   "source": []
  },
  {
   "cell_type": "code",
   "execution_count": 6,
   "id": "742b7872",
   "metadata": {},
   "outputs": [
    {
     "name": "stdout",
     "output_type": "stream",
     "text": [
      "[4, 3]\n",
      "[5, 5]\n"
     ]
    }
   ],
   "source": [
    "def how_sum(target_sum, numbers):\n",
    "    if target_sum == 0:\n",
    "        return []\n",
    "    if target_sum < 0:\n",
    "        return None\n",
    "    \n",
    "    for num in numbers:\n",
    "        remainder = target_sum-num\n",
    "        remainder_sum = how_sum(remainder, numbers)\n",
    "        if remainder_sum!= None:\n",
    "            remainder_sum = remainder_sum + [num]\n",
    "            return remainder_sum\n",
    "    \n",
    "print(how_sum(7, [5,3,4,7]))\n",
    "print(how_sum(10, [5,3,4,7]))"
   ]
  },
  {
   "cell_type": "code",
   "execution_count": 9,
   "id": "e4cfb969",
   "metadata": {},
   "outputs": [
    {
     "name": "stdout",
     "output_type": "stream",
     "text": [
      "[1, 3, 5, 7, 9, 11, 13, 15, 17, 19, 21, 23, 25, 27, 29, 31, 33, 35, 37, 39, 41, 43, 45]\n"
     ]
    }
   ],
   "source": [
    "print(list(range(1,46,2)))"
   ]
  },
  {
   "cell_type": "code",
   "execution_count": 23,
   "id": "3c58251f",
   "metadata": {},
   "outputs": [
    {
     "name": "stdout",
     "output_type": "stream",
     "text": [
      "[[3, 4], [4, 3], [7]]\n"
     ]
    }
   ],
   "source": [
    "def how_sum(target_sum, numbers):\n",
    "    if target_sum == 0:\n",
    "        return [[]]\n",
    "    if target_sum < 0:\n",
    "        return None\n",
    "    result = []\n",
    "    for num in numbers:\n",
    "        remainder = target_sum-num\n",
    "        remainder_sum = how_sum(remainder, numbers)\n",
    "        if remainder_sum!= None:\n",
    "            ways = list(map(lambda x:[num] + x, remainder_sum))\n",
    "            result = result + ways\n",
    "    return result\n",
    "    \n",
    "print(how_sum(7, [5,3,4,7]))"
   ]
  },
  {
   "cell_type": "code",
   "execution_count": null,
   "id": "9aa567c6",
   "metadata": {},
   "outputs": [],
   "source": [
    "def how_sum(target_sum, numbers):\n",
    "    if target_sum == 0:\n",
    "        return [[]]\n",
    "    if target_sum < 0:\n",
    "        return None\n",
    "    result = []\n",
    "    for num in numbers:\n",
    "        remainder = target_sum-num\n",
    "        remainder_sum = how_sum(remainder, numbers)\n",
    "        if remainder_sum!= None:\n",
    "            ways = list(map(lambda x:[num] + x, remainder_sum))\n",
    "            result = result + ways\n",
    "    return result\n",
    "    \n",
    "print(how_sum(7, [5,3,4,7]))"
   ]
  }
 ],
 "metadata": {
  "kernelspec": {
   "display_name": "Python 3 (ipykernel)",
   "language": "python",
   "name": "python3"
  },
  "language_info": {
   "codemirror_mode": {
    "name": "ipython",
    "version": 3
   },
   "file_extension": ".py",
   "mimetype": "text/x-python",
   "name": "python",
   "nbconvert_exporter": "python",
   "pygments_lexer": "ipython3",
   "version": "3.8.8"
  }
 },
 "nbformat": 4,
 "nbformat_minor": 5
}
