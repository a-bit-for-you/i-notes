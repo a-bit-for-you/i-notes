{
 "cells": [
  {
   "cell_type": "code",
   "execution_count": 60,
   "id": "a9d0282a-cb13-4f72-ad18-63ff29595c3b",
   "metadata": {},
   "outputs": [
    {
     "data": {
      "text/plain": [
       "2"
      ]
     },
     "execution_count": 60,
     "metadata": {},
     "output_type": "execute_result"
    }
   ],
   "source": [
    "edges = [\n",
    "    ['w', 'x'],\n",
    "    ['x', 'y'],\n",
    "    ['z', 'y'],\n",
    "    ['z', 'v'],\n",
    "    ['w', 'v']\n",
    "]\n",
    "\n",
    "from collections import defaultdict\n",
    "from queue import Queue\n",
    "\n",
    "\n",
    "def build_graph(edges):\n",
    "\n",
    "    graph = defaultdict(list)\n",
    "    \n",
    "    for i in edges:\n",
    "\n",
    "        graph[i[0]].append(i[1])\n",
    "        graph[i[1]].append(i[0])\n",
    "    return graph\n",
    "\n",
    "\n",
    "def shortest_path(edges, source, dest):\n",
    "\n",
    "    graph = build_graph(edges)\n",
    "\n",
    "    visited = {source}\n",
    "    q = Queue()\n",
    "    q.put((source, 0))\n",
    "\n",
    "    while not q.empty():\n",
    "\n",
    "        current, distance = q.get()\n",
    "\n",
    "        if current == dest:\n",
    "            return distance\n",
    "\n",
    "        for i in graph[current]:\n",
    "            if i not in visited:\n",
    "                q.put((i, distance+1))\n",
    "                visited.add(i)\n",
    "        \n",
    "    \n",
    "\n",
    "    return -1\n",
    "    \n",
    "\n",
    "shortest_path(edges, 'w', 'z')"
   ]
  },
  {
   "cell_type": "code",
   "execution_count": null,
   "id": "767c5322-a2f9-4ef4-949d-1a418bf633c0",
   "metadata": {},
   "outputs": [],
   "source": []
  },
  {
   "cell_type": "code",
   "execution_count": null,
   "id": "367fdc36-8eeb-44e1-b9bb-e5184c6290ae",
   "metadata": {},
   "outputs": [],
   "source": []
  }
 ],
 "metadata": {
  "kernelspec": {
   "display_name": "Python 3 (ipykernel)",
   "language": "python",
   "name": "python3"
  },
  "language_info": {
   "codemirror_mode": {
    "name": "ipython",
    "version": 3
   },
   "file_extension": ".py",
   "mimetype": "text/x-python",
   "name": "python",
   "nbconvert_exporter": "python",
   "pygments_lexer": "ipython3",
   "version": "3.11.5"
  }
 },
 "nbformat": 4,
 "nbformat_minor": 5
}
