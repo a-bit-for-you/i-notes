{
 "cells": [
  {
   "cell_type": "code",
   "execution_count": 4,
   "id": "8e2c2b99",
   "metadata": {},
   "outputs": [
    {
     "data": {
      "text/plain": [
       "1035"
      ]
     },
     "execution_count": 4,
     "metadata": {},
     "output_type": "execute_result"
    }
   ],
   "source": [
    "def countSubarray(n):\n",
    "    return ((n)*(n + 1))//2\n",
    "countSubarray(45)"
   ]
  },
  {
   "cell_type": "code",
   "execution_count": 3,
   "id": "bb11c3d3",
   "metadata": {},
   "outputs": [
    {
     "data": {
      "text/plain": [
       "3"
      ]
     },
     "execution_count": 3,
     "metadata": {},
     "output_type": "execute_result"
    }
   ],
   "source": [
    "def alice(s):\n",
    "    \n",
    "    dic = {}\n",
    "    start = 0\n",
    "    current_sum = 0\n",
    "    cnt = 0\n",
    "    i = 1\n",
    "    for j in range(1,46,2):\n",
    "        \n",
    "        current_sum += j\n",
    "        \n",
    "        if current_sum == s:\n",
    "            cnt += 1\n",
    "        \n",
    "        if current_sum - s in dic:\n",
    "            cnt += 1\n",
    "        else:\n",
    "            dic[current_sum] = i\n",
    "        i += 1\n",
    "        \n",
    "    return cnt\n",
    "\n",
    "s = 45\n",
    "alice(s)"
   ]
  },
  {
   "cell_type": "code",
   "execution_count": 19,
   "id": "42f43e28",
   "metadata": {},
   "outputs": [
    {
     "name": "stdout",
     "output_type": "stream",
     "text": [
      "[1, 3, 5, 7, 9, 11, 13, 15, 17, 19, 21, 23, 25, 27, 29, 31, 33, 35, 37, 39, 41, 43, 45]\n"
     ]
    },
    {
     "data": {
      "text/plain": [
       "3"
      ]
     },
     "execution_count": 19,
     "metadata": {},
     "output_type": "execute_result"
    }
   ],
   "source": [
    "def alice(arr, s):\n",
    "    \n",
    "    dic = {}\n",
    "    start = 0\n",
    "    current_sum = 0\n",
    "    cnt = 0\n",
    "    for i in range(len(arr)):\n",
    "        \n",
    "        current_sum += arr[i]\n",
    "        \n",
    "        if current_sum == s:\n",
    "            cnt += 1\n",
    "        \n",
    "        if current_sum - s in dic:\n",
    "            cnt += 1\n",
    "        else:\n",
    "            dic[current_sum] = i\n",
    "        \n",
    "    return cnt\n",
    "\n",
    "arr = list(range(1,46,2))\n",
    "print(arr)\n",
    "s = 45\n",
    "alice(arr, s)"
   ]
  },
  {
   "cell_type": "code",
   "execution_count": 3,
   "id": "dd80ba1f",
   "metadata": {},
   "outputs": [
    {
     "name": "stdout",
     "output_type": "stream",
     "text": [
      "[1, 3, 5, 7, 9, 11, 13, 15, 17, 19, 21, 23, 25, 27, 29, 31, 33, 35, 37, 39, 41, 43, 45]\n"
     ]
    },
    {
     "data": {
      "text/plain": [
       "0"
      ]
     },
     "execution_count": 3,
     "metadata": {},
     "output_type": "execute_result"
    }
   ],
   "source": [
    "def check_seq(arr):\n",
    "    for i in range(len(arr)-1):\n",
    "        if arr[i] + 2 != arr[i+1]:\n",
    "            return False\n",
    "    return True\n",
    "\n",
    "\n",
    "def alice(arr, s):\n",
    "    \n",
    "    dic = {}\n",
    "    start = 0\n",
    "    current_sum = 0\n",
    "    cnt = 0\n",
    "    for i in range(len(arr)):\n",
    "        \n",
    "        current_sum += arr[i]\n",
    "        \n",
    "        if current_sum == s:\n",
    "            print('yo')\n",
    "            flag = True\n",
    "            for i in range(start,end+1):\n",
    "                if arr[i] + 2 != arr[i+1]:\n",
    "                    flag = False\n",
    "                    break\n",
    "            if flag: cnt += 1\n",
    "        \n",
    "        if current_sum - s in dic:\n",
    "            print('hiiiiiii')\n",
    "            start = dic[current_sum - s] + 1\n",
    "            end = i\n",
    "            flag = True\n",
    "            print(start,end)\n",
    "            for i in range(start,end+1):\n",
    "                print('hi')\n",
    "                if arr[i] + 2 != arr[i+1]:\n",
    "                    \n",
    "                    flag = False\n",
    "                    break\n",
    "            if flag: cnt += 1\n",
    "            \n",
    "        else:\n",
    "            dic[current_sum] = i\n",
    "        return cnt\n",
    "#     print(arr)\n",
    "\n",
    "arr = list(range(1,46,2))\n",
    "print(arr)\n",
    "s = 45\n",
    "alice(arr, s)"
   ]
  },
  {
   "cell_type": "code",
   "execution_count": 6,
   "id": "0388efbe",
   "metadata": {},
   "outputs": [
    {
     "name": "stdout",
     "output_type": "stream",
     "text": [
      "[1, 3, 5, 7, 9, 11, 13, 15, 17, 19, 21, 23, 25, 27, 29, 31, 33, 35, 37, 39, 41, 43, 45]\n"
     ]
    },
    {
     "data": {
      "text/plain": [
       "(2, 6)"
      ]
     },
     "execution_count": 6,
     "metadata": {},
     "output_type": "execute_result"
    }
   ],
   "source": [
    "def alice(arr, s):\n",
    "    \n",
    "    dic = {}\n",
    "    start = 0\n",
    "    current_sum = 0\n",
    "    for i in range(len(arr)):\n",
    "        \n",
    "        current_sum += arr[i]\n",
    "        \n",
    "        if current_sum == s:\n",
    "            return start, i\n",
    "        \n",
    "        if current_sum - s in dic:\n",
    "            start = dic[current_sum - s] + 1\n",
    "            end = i\n",
    "            return start, end\n",
    "        else:\n",
    "            dic[current_sum] = i\n",
    "        \n",
    "#     print(arr)\n",
    "\n",
    "arr = list(range(1,46,2))\n",
    "print(arr)\n",
    "s = 45\n",
    "alice(arr, s)"
   ]
  },
  {
   "cell_type": "code",
   "execution_count": 49,
   "id": "bf8eb00c",
   "metadata": {},
   "outputs": [
    {
     "name": "stdout",
     "output_type": "stream",
     "text": [
      "[[5, 7, 9, 11, 13], [13, 15, 17], [45]]\n"
     ]
    }
   ],
   "source": [
    "def check_seq(arr):\n",
    "    for i in range(len(arr)-1):\n",
    "        if arr[i] + 2 != arr[i+1]:\n",
    "            return False\n",
    "    return True\n",
    "\n",
    "def how_sum(target_sum, numbers, memo={}):\n",
    "    if target_sum in memo:\n",
    "        return memo[target_sum]\n",
    "    if target_sum == 0:\n",
    "        return [[]]\n",
    "    if target_sum < 0:\n",
    "        return None\n",
    "    \n",
    "    result = []\n",
    "    for num in numbers:\n",
    "        remainder = target_sum-num\n",
    "        remainder_sum = how_sum(remainder, numbers, memo)\n",
    "        if remainder_sum!= None:\n",
    "            ways = list(map(lambda x:[num] + x, remainder_sum))\n",
    "            ways = list(filter(lambda x:check_seq(x), ways))\n",
    "            if ways !=[]:\n",
    "                result = result + ways\n",
    "        \n",
    "    memo[target_sum] = result\n",
    "    return result\n",
    "\n",
    "# print(how_sum(8, [1,3,5,7,9,11,13,15,17,19], {}))\n",
    "# print(how_sum(8, [2,4,6], {}))\n",
    "# print(how_sum(100, [1,2,5,25,50,24], {}))\n",
    "print(how_sum(45,[3,5,7, 9, 11, 13, 15, 17, 19, 21, 23, 25, 27, 29, 31, 33, 35, 37, 39, 41, 43, 45],{}))"
   ]
  },
  {
   "cell_type": "code",
   "execution_count": 51,
   "id": "3fe3624f",
   "metadata": {},
   "outputs": [
    {
     "data": {
      "text/plain": [
       "[1,\n",
       " 3,\n",
       " 5,\n",
       " 7,\n",
       " 9,\n",
       " 11,\n",
       " 13,\n",
       " 15,\n",
       " 17,\n",
       " 19,\n",
       " 21,\n",
       " 23,\n",
       " 25,\n",
       " 27,\n",
       " 29,\n",
       " 31,\n",
       " 33,\n",
       " 35,\n",
       " 37,\n",
       " 39,\n",
       " 41,\n",
       " 43,\n",
       " 45]"
      ]
     },
     "execution_count": 51,
     "metadata": {},
     "output_type": "execute_result"
    }
   ],
   "source": [
    "n = 45\n",
    "list(range(1,n+1,2))"
   ]
  },
  {
   "cell_type": "code",
   "execution_count": 23,
   "id": "f9818205",
   "metadata": {},
   "outputs": [
    {
     "name": "stdout",
     "output_type": "stream",
     "text": [
      "[[13, 15, 17], [45]]\n"
     ]
    }
   ],
   "source": [
    "def check_seq(arr):\n",
    "    cnt = 0\n",
    "    arr.sort()\n",
    "    for i in range(arr[0],arr[-1],2):\n",
    "        if not (i==arr[cnt]):\n",
    "            return False\n",
    "        cnt += 1\n",
    "    return True\n",
    "\n",
    "def how_sum(target_sum, numbers, memo={}):\n",
    "    if target_sum in memo:\n",
    "        return memo[target_sum]\n",
    "    if target_sum == 0:\n",
    "        return [[]]\n",
    "    if target_sum < 0:\n",
    "        return None\n",
    "    \n",
    "    result = []\n",
    "    temp = numbers.copy()\n",
    "    for num in numbers:\n",
    "        temp.remove(num)\n",
    "        remainder = target_sum-num\n",
    "        remainder_sum = how_sum(remainder, temp, memo)\n",
    "        if remainder_sum!= None:\n",
    "            ways = list(map(lambda x:[num] + x, remainder_sum))\n",
    "            ways = list(filter(lambda x:check_seq(x), ways))\n",
    "            if ways !=[]:\n",
    "                result = result + ways\n",
    "        \n",
    "    memo[target_sum] = result\n",
    "    return result\n",
    "\n",
    "# print(how_sum(8, [1,3,5,7,9,11,13,15,17,19], {}))\n",
    "# print(how_sum(8, [2,4,6], {}))\n",
    "# print(how_sum(100, [1,2,5,25,50,24], {}))\n",
    "print(how_sum(45,[3,5,7, 9, 11, 13, 15, 17, 19, 21, 23, 25, 27, 29, 31, 33, 35, 37, 39, 41, 43, 45],{}))"
   ]
  },
  {
   "cell_type": "code",
   "execution_count": null,
   "id": "97efe38c",
   "metadata": {},
   "outputs": [],
   "source": []
  },
  {
   "cell_type": "code",
   "execution_count": 14,
   "id": "b07d2f95",
   "metadata": {},
   "outputs": [
    {
     "name": "stdout",
     "output_type": "stream",
     "text": [
      "[45]\n"
     ]
    }
   ],
   "source": [
    "def best_sum(target_sum, numbers, memo={}):\n",
    "    \n",
    "    if target_sum in memo:\n",
    "        return memo[target_sum]\n",
    "    \n",
    "    if target_sum == 0:\n",
    "        return []\n",
    "    \n",
    "    if target_sum < 0:\n",
    "        return None\n",
    "    \n",
    "    shortest_combination = None\n",
    "    \n",
    "    for num in numbers:\n",
    "        \n",
    "        new_target_sum = target_sum - num\n",
    "        \n",
    "        combination = best_sum(new_target_sum, numbers, memo)\n",
    "        if combination != None:\n",
    "            new_combination = [num] + combination\n",
    "\n",
    "            if shortest_combination == None or len(new_combination) < len(shortest_combination):\n",
    "                shortest_combination = new_combination\n",
    "    \n",
    "    memo[target_sum] = shortest_combination\n",
    "    return shortest_combination\n",
    "\n",
    "arr = [i for i in range(1,46,2)]\n",
    "print(best_sum(45, arr, {}))"
   ]
  },
  {
   "cell_type": "code",
   "execution_count": null,
   "id": "81342324",
   "metadata": {},
   "outputs": [],
   "source": []
  },
  {
   "cell_type": "code",
   "execution_count": null,
   "id": "d6a2537c",
   "metadata": {},
   "outputs": [],
   "source": []
  },
  {
   "cell_type": "code",
   "execution_count": 41,
   "id": "f4caee8a",
   "metadata": {},
   "outputs": [
    {
     "name": "stdout",
     "output_type": "stream",
     "text": [
      "[1, 3, 5, 7, 9, 11, 13, 15, 17, 19, 21, 23, 25, 27, 29, 31, 33, 35, 37, 39, 41, 43, 45]\n"
     ]
    },
    {
     "data": {
      "text/plain": [
       "68"
      ]
     },
     "execution_count": 41,
     "metadata": {},
     "output_type": "execute_result"
    }
   ],
   "source": [
    "def subset_sum(arr,n,s):\n",
    "    table = [[0 for i in range(s+1)] for i in range(n+1)]\n",
    "    for i in range(n+1):\n",
    "        table[i][0] = 1\n",
    "    for i in range(1,s+1):\n",
    "        table[0][i] = 0\n",
    "    \n",
    "    for i in range(1,n+1):\n",
    "        for j in range(1,s+1):\n",
    "            if arr[i-1] > j:\n",
    "                table[i][j] = table[i-1][j]\n",
    "            else:\n",
    "                \n",
    "                table[i][j] = table[i-1][j-arr[i-1]] + table[i-1][j]\n",
    "\n",
    "    return table[n][s]\n",
    "\n",
    "arr = [i for i in range(1,46,2)]\n",
    "print(arr)\n",
    "s = 45\n",
    "n = len(arr)\n",
    "\n",
    "subset_sum(arr,n,s)"
   ]
  },
  {
   "cell_type": "code",
   "execution_count": 7,
   "id": "7a3a5789",
   "metadata": {},
   "outputs": [
    {
     "data": {
      "text/plain": [
       "[[1, 2], [3], []]"
      ]
     },
     "execution_count": 7,
     "metadata": {},
     "output_type": "execute_result"
    }
   ],
   "source": [
    "[[1,2],[3]] + [[]]"
   ]
  },
  {
   "cell_type": "code",
   "execution_count": null,
   "id": "793474a8",
   "metadata": {},
   "outputs": [],
   "source": []
  },
  {
   "cell_type": "code",
   "execution_count": 26,
   "id": "73f2f903",
   "metadata": {},
   "outputs": [
    {
     "name": "stdout",
     "output_type": "stream",
     "text": [
      "[1, 3, 5, 7, 9, 11, 13, 15, 17, 19, 21, 23, 25, 27, 29, 31, 33, 35, 37, 39, 41, 43, 45]\n"
     ]
    },
    {
     "data": {
      "text/plain": [
       "68"
      ]
     },
     "execution_count": 26,
     "metadata": {},
     "output_type": "execute_result"
    }
   ],
   "source": [
    "def subset_sum(arr,n,s):\n",
    "    table = [[0 for i in range(s+1)] for i in range(n+1)]\n",
    "    for i in range(n+1):\n",
    "        table[i][0] = 1\n",
    "    for i in range(1,s+1):\n",
    "        table[0][i] = 0\n",
    "    \n",
    "    for i in range(1,n+1):\n",
    "        for j in range(1,s+1):\n",
    "            if arr[i-1] > j:\n",
    "                table[i][j] = table[i-1][j]\n",
    "            else:\n",
    "                \n",
    "                table[i][j] = table[i-1][j-arr[i-1]] + table[i-1][j]\n",
    "\n",
    "    return table[n][s]\n",
    "\n",
    "arr = [i for i in range(1,46,2)]\n",
    "print(arr)\n",
    "s = 45\n",
    "n = len(arr)\n",
    "\n",
    "subset_sum(arr,n,s)"
   ]
  },
  {
   "cell_type": "code",
   "execution_count": 33,
   "id": "6f82fb32",
   "metadata": {},
   "outputs": [
    {
     "name": "stdout",
     "output_type": "stream",
     "text": [
      "False\n",
      "False\n",
      "False\n",
      "False\n",
      "False\n",
      "False\n",
      "False\n",
      "False\n",
      "False\n",
      "True\n",
      "True\n",
      "True\n",
      "True\n",
      "True\n",
      "True\n",
      "True\n",
      "True\n",
      "True\n",
      "True\n",
      "True\n",
      "True\n",
      "True\n",
      "True\n",
      "True\n",
      "True\n",
      "True\n",
      "True\n",
      "True\n",
      "True\n",
      "True\n",
      "True\n",
      "True\n",
      "True\n",
      "True\n",
      "True\n",
      "True\n",
      "True\n",
      "True\n",
      "True\n",
      "True\n",
      "True\n",
      "True\n",
      "True\n",
      "True\n",
      "True\n",
      "True\n"
     ]
    }
   ],
   "source": [
    "def subset_sum(arr,n,s):\n",
    "    table = [[False for i in range(s+1)] for i in range(n+1)]\n",
    "    for i in range(n+1):\n",
    "        table[i][0] = True\n",
    "    for i in range(1,s+1):\n",
    "        table[0][i] = False\n",
    "    \n",
    "    for i in range(1,n+1):\n",
    "        for j in range(1,s+1):\n",
    "            if arr[i-1] > j:\n",
    "                table[i][j] = table[i-1][j]\n",
    "            else:\n",
    "                table[i][j] = table[i-1][j-arr[i-1]] or table[i-1][j]\n",
    "\n",
    "    return table\n",
    "\n",
    "# arr = [i for i in range(1,46,2)]\n",
    "arr = [i for i in range(1,46)]\n",
    "s = 45\n",
    "n = len(arr)\n",
    "sum_table = subset_sum(arr,n,s)\n",
    "\n",
    "for i in sum_table:\n",
    "    print(i[-1])\n",
    "    \n"
   ]
  },
  {
   "cell_type": "code",
   "execution_count": null,
   "id": "b4bbe9ba",
   "metadata": {},
   "outputs": [],
   "source": []
  },
  {
   "cell_type": "code",
   "execution_count": 8,
   "id": "c2744a7c",
   "metadata": {},
   "outputs": [
    {
     "name": "stdout",
     "output_type": "stream",
     "text": [
      "[[True, False, False, False, False, False, False, False, False, False], [True, True, False, False, False, False, False, False, False, False], [True, True, True, True, False, False, False, False, False, False], [True, True, True, True, False, False, False, True, True, True]]\n"
     ]
    },
    {
     "data": {
      "text/plain": [
       "True"
      ]
     },
     "execution_count": 8,
     "metadata": {},
     "output_type": "execute_result"
    }
   ],
   "source": [
    "\n",
    "\n",
    "# knapsack(val,arr,n-1,W)\n",
    "\n",
    "# knapsack(val,arr,n-1,W-w[n-1]) or knapsack(val,arr,n-1,W)\n",
    "\n",
    "\n",
    "def subset_sum(arr,n,s):\n",
    "    table = [[False for i in range(s+1)] for i in range(n+1)]\n",
    "    for i in range(n+1):\n",
    "        table[i][0] = True\n",
    "    for i in range(1,s+1):\n",
    "        table[0][i] = False\n",
    "    \n",
    "    for i in range(1,n+1):\n",
    "        for j in range(1,s+1):\n",
    "            if arr[i-1] > j:\n",
    "                table[i][j] = table[i-1][j]\n",
    "            else:\n",
    "                table[i][j] = table[i-1][j-arr[i-1]] or table[i-1][j]\n",
    "    print(table)\n",
    "    return table[n][s]\n",
    "\n",
    "arr = [1,2,7]\n",
    "s = 9\n",
    "n = len(arr)\n",
    "subset_sum(arr,n,s)"
   ]
  },
  {
   "cell_type": "code",
   "execution_count": null,
   "id": "bd554b09",
   "metadata": {},
   "outputs": [],
   "source": []
  },
  {
   "cell_type": "code",
   "execution_count": null,
   "id": "32dcb341",
   "metadata": {},
   "outputs": [],
   "source": []
  },
  {
   "cell_type": "code",
   "execution_count": null,
   "id": "b0cfed11",
   "metadata": {},
   "outputs": [],
   "source": []
  },
  {
   "cell_type": "code",
   "execution_count": null,
   "id": "17e7c816",
   "metadata": {},
   "outputs": [],
   "source": []
  },
  {
   "cell_type": "code",
   "execution_count": 4,
   "id": "f80e4e0a",
   "metadata": {},
   "outputs": [
    {
     "name": "stdout",
     "output_type": "stream",
     "text": [
      "[[1, 25, 50, 24], [2, 24, 50, 24]]\n"
     ]
    }
   ],
   "source": [
    "def how_sum(target_sum, numbers, memo={}):\n",
    "    if target_sum in memo:\n",
    "        return memo[target_sum]\n",
    "    if target_sum == 0:\n",
    "        return [[]]\n",
    "    if target_sum < 0:\n",
    "        return None\n",
    "    \n",
    "    result = []\n",
    "    temp = numbers.copy()\n",
    "    for num in numbers:\n",
    "        temp.remove(num)\n",
    "        remainder = target_sum-num\n",
    "        remainder_sum = how_sum(remainder, temp, memo)\n",
    "        if remainder_sum!= None:\n",
    "            ways = list(map(lambda x:[num] + x, remainder_sum))\n",
    "            if ways !=[]:\n",
    "                result = result + ways\n",
    "        \n",
    "    memo[target_sum] = result\n",
    "    return result\n",
    "\n",
    "# print(how_sum(8, [1,3,5,7,9,11,13,15,17,19], {}))\n",
    "# print(how_sum(8, [2,4,6], {}))\n",
    "print(how_sum(100, [1,2,5,25,50,24], {}))\n",
    "# print(how_sum(45,[3,5,7, 9, 11, 13, 15, 17, 19, 21, 23, 25, 27, 29, 31, 33, 35, 37, 39, 41, 43, 45],{}))"
   ]
  },
  {
   "cell_type": "code",
   "execution_count": 13,
   "id": "6a486ab9",
   "metadata": {},
   "outputs": [
    {
     "data": {
      "text/plain": [
       "False"
      ]
     },
     "execution_count": 13,
     "metadata": {},
     "output_type": "execute_result"
    }
   ],
   "source": [
    "def check_seq(yo):\n",
    "    cnt = 0\n",
    "    for i in range(yo[0],yo[-1],2):\n",
    "        if not (i==yo[cnt]):\n",
    "            return False\n",
    "        cnt += 1\n",
    "    return True\n",
    "yo = [1, 3, 5, 13, 23]\n",
    "check_seq(yo)"
   ]
  },
  {
   "cell_type": "code",
   "execution_count": null,
   "id": "207a6513",
   "metadata": {},
   "outputs": [],
   "source": []
  },
  {
   "cell_type": "code",
   "execution_count": null,
   "id": "835666c5",
   "metadata": {},
   "outputs": [],
   "source": []
  },
  {
   "cell_type": "code",
   "execution_count": null,
   "id": "827575d4",
   "metadata": {},
   "outputs": [],
   "source": []
  },
  {
   "cell_type": "code",
   "execution_count": 27,
   "id": "b2327692",
   "metadata": {},
   "outputs": [
    {
     "name": "stdout",
     "output_type": "stream",
     "text": [
      "[[3, 4], [7]]\n",
      "[[2, 6]]\n"
     ]
    }
   ],
   "source": [
    "def check_seq(yo):\n",
    "    cnt = 0\n",
    "    for i in range(yo[0],yo[-1],2):\n",
    "        if not (i==yo[cnt]):\n",
    "            return False\n",
    "        cnt += 1\n",
    "    return True\n",
    "\n",
    "def how_sum(target_sum, numbers, memo={}):\n",
    "    if target_sum in memo:\n",
    "        return memo[target_sum]\n",
    "    if target_sum == 0:\n",
    "        return [[]]\n",
    "    if target_sum < 0:\n",
    "        return None\n",
    "    \n",
    "    result = []\n",
    "    temp = numbers.copy()\n",
    "    for num in numbers:\n",
    "        temp.remove(num)\n",
    "        remainder = target_sum-num\n",
    "        remainder_sum = how_sum(remainder, temp, memo)\n",
    "        if remainder_sum!= None:\n",
    "            ways = list(map(lambda x:[num] + x, remainder_sum))\n",
    "            if ways !=[]:\n",
    "                result = result + ways\n",
    "        \n",
    "    memo[target_sum] = result\n",
    "    return result\n",
    "\n",
    "print(how_sum(8, [1,3,5,7,9,11,13,15,17,19], {}))\n",
    "# print(how_sum(8, [2,4,6], {}))\n",
    "# print(how_sum(100, [1,2,5,25,50,24], {}))\n",
    "print(how_sum(45,[3,5,7, 9, 11, 13, 15, 17, 19, 21, 23, 25, 27, 29, 31, 33, 35, 37, 39, 41, 43, 45],{}))"
   ]
  },
  {
   "cell_type": "code",
   "execution_count": null,
   "id": "10c93e7a",
   "metadata": {},
   "outputs": [],
   "source": []
  },
  {
   "cell_type": "code",
   "execution_count": 19,
   "id": "cb3407b2",
   "metadata": {},
   "outputs": [
    {
     "data": {
      "text/plain": [
       "{(5, 7, 9, 11, 13), (13, 15, 17), (45,)}"
      ]
     },
     "execution_count": 19,
     "metadata": {},
     "output_type": "execute_result"
    }
   ],
   "source": [
    "def how_sum(target_sum, numbers, memo={}):\n",
    "    if target_sum in memo:\n",
    "        return memo[target_sum]\n",
    "    if target_sum == 0:\n",
    "        return [[]]\n",
    "    if target_sum < 0:\n",
    "        return None\n",
    "    \n",
    "    result = []\n",
    "    for num in numbers:\n",
    "        remainder = target_sum-num\n",
    "        remainder_sum = how_sum(remainder, numbers)\n",
    "        if remainder_sum!= None:\n",
    "            ways = list(map(lambda x:[num] + x, remainder_sum))\n",
    "            result = result + ways\n",
    "    memo[target_sum] = result\n",
    "    return result\n",
    "    \n",
    "\n",
    "# print(how_sum(45,[1, 3, 5, 7, 9, 11, 13, 15, 17, 19, 21, 23, 25, 27, 29, 31, 33, 35, 37, 39, 41, 43, 45], {}))\n",
    "# print(how_sum(10, [5,3,4,7], {}))\n",
    "# print(how_sum(7, [5,3,4,7], {}))\n",
    "\n",
    "ways = (how_sum(45,[3,5,7, 9, 11, 13, 15, 17, 19, 21, 23, 25, 27, 29, 31, 33, 35, 37, 39, 41, 43, 45],{}))\n",
    "# li = set()\n",
    "\n",
    "def check_seq(yo):\n",
    "    cnt = 0\n",
    "    for i in range(yo[0],yo[-1],2):\n",
    "        if not (i==yo[cnt]):\n",
    "            return False\n",
    "        cnt += 1\n",
    "    return True\n",
    "\n",
    "li = set()\n",
    "for i in ways:\n",
    "    i.sort()\n",
    "    if check_seq(i) and len(i) == len(set(i)):\n",
    "        li.add(tuple(i))\n",
    "li"
   ]
  },
  {
   "cell_type": "code",
   "execution_count": 39,
   "id": "521ef0be",
   "metadata": {},
   "outputs": [
    {
     "data": {
      "text/plain": [
       "True"
      ]
     },
     "execution_count": 39,
     "metadata": {},
     "output_type": "execute_result"
    }
   ],
   "source": [
    "yo = (5, 7, 10, 11, 13)\n",
    "yo = [5, 5, 5, 15, 5, 5, 5]\n",
    "def check_seq(yo):\n",
    "    cnt = 0\n",
    "    for i in range(yo[0],yo[-1],2):\n",
    "        if not (i==yo[cnt]):\n",
    "            return False\n",
    "        cnt += 1\n",
    "    return True\n",
    "check_seq(yo)"
   ]
  },
  {
   "cell_type": "code",
   "execution_count": null,
   "id": "2ca34f1a",
   "metadata": {},
   "outputs": [],
   "source": []
  },
  {
   "cell_type": "code",
   "execution_count": null,
   "id": "09b4334e",
   "metadata": {},
   "outputs": [],
   "source": []
  },
  {
   "cell_type": "code",
   "execution_count": null,
   "id": "fb46dd68",
   "metadata": {},
   "outputs": [],
   "source": []
  },
  {
   "cell_type": "code",
   "execution_count": 7,
   "id": "5ec16e06",
   "metadata": {},
   "outputs": [
    {
     "name": "stdout",
     "output_type": "stream",
     "text": [
      "[[5, 5], [3, 3, 4], [3, 4, 3], [3, 7], [4, 3, 3], [7, 3]]\n"
     ]
    }
   ],
   "source": [
    "def how_sum(target_sum, numbers, memo={}):\n",
    "    if target_sum in memo:\n",
    "        return memo[target_sum]\n",
    "    if target_sum == 0:\n",
    "        return [[]]\n",
    "    if target_sum < 0:\n",
    "        return None\n",
    "    result = []\n",
    "    for num in numbers:\n",
    "        remainder = target_sum-num\n",
    "        remainder_sum = how_sum(remainder, numbers)\n",
    "        if remainder_sum!= None:\n",
    "            ways = list(map(lambda x:[num] + x, remainder_sum))\n",
    "            result = result + ways\n",
    "    memo[target_sum] = result\n",
    "    return result\n",
    "    \n",
    "\n",
    "# print(how_sum(45,[1, 3, 5, 7, 9, 11, 13, 15, 17, 19, 21, 23, 25, 27, 29, 31, 33, 35, 37, 39, 41, 43, 45], {}))\n",
    "# print(how_sum(45,[3,5,7, 9, 11, 13, 15, 17, 19, 21, 23, 25, 27, 29, 31, 33, 35, 37, 39, 41, 43, 45],{}))\n",
    "\n",
    "print(how_sum(10, [5,3,4,7]))\n",
    "# print(how_sum(7, [5,3,4,7]))"
   ]
  },
  {
   "cell_type": "code",
   "execution_count": 5,
   "id": "43d0ae03",
   "metadata": {},
   "outputs": [
    {
     "data": {
      "text/plain": [
       "[1, 3]"
      ]
     },
     "execution_count": 5,
     "metadata": {},
     "output_type": "execute_result"
    }
   ],
   "source": [
    "li = [1,2,3]\n",
    "li.remove(2)\n",
    "li"
   ]
  },
  {
   "cell_type": "code",
   "execution_count": null,
   "id": "698a8c1a",
   "metadata": {},
   "outputs": [],
   "source": []
  },
  {
   "cell_type": "code",
   "execution_count": null,
   "id": "8b8bfc4d",
   "metadata": {},
   "outputs": [],
   "source": []
  },
  {
   "cell_type": "code",
   "execution_count": 6,
   "id": "ee217346",
   "metadata": {},
   "outputs": [
    {
     "name": "stdout",
     "output_type": "stream",
     "text": [
      "[4, 3]\n",
      "[5, 5]\n"
     ]
    }
   ],
   "source": [
    "def how_sum(target_sum, numbers):\n",
    "    if target_sum == 0:\n",
    "        return []\n",
    "    if target_sum < 0:\n",
    "        return None\n",
    "    \n",
    "    for num in numbers:\n",
    "        remainder = target_sum-num\n",
    "        remainder_sum = how_sum(remainder, numbers)\n",
    "        if remainder_sum!= None:\n",
    "            remainder_sum = remainder_sum + [num]\n",
    "            return remainder_sum\n",
    "    \n",
    "print(how_sum(7, [5,3,4,7]))\n",
    "print(how_sum(10, [5,3,4,7]))"
   ]
  },
  {
   "cell_type": "code",
   "execution_count": 9,
   "id": "bc4a60b0",
   "metadata": {},
   "outputs": [
    {
     "name": "stdout",
     "output_type": "stream",
     "text": [
      "[1, 3, 5, 7, 9, 11, 13, 15, 17, 19, 21, 23, 25, 27, 29, 31, 33, 35, 37, 39, 41, 43, 45]\n"
     ]
    }
   ],
   "source": [
    "print(list(range(1,46,2)))"
   ]
  },
  {
   "cell_type": "code",
   "execution_count": 23,
   "id": "a7d5c72a",
   "metadata": {},
   "outputs": [
    {
     "name": "stdout",
     "output_type": "stream",
     "text": [
      "[[3, 4], [4, 3], [7]]\n"
     ]
    }
   ],
   "source": [
    "def how_sum(target_sum, numbers):\n",
    "    if target_sum == 0:\n",
    "        return [[]]\n",
    "    if target_sum < 0:\n",
    "        return None\n",
    "    result = []\n",
    "    for num in numbers:\n",
    "        remainder = target_sum-num\n",
    "        remainder_sum = how_sum(remainder, numbers)\n",
    "        if remainder_sum!= None:\n",
    "            ways = list(map(lambda x:[num] + x, remainder_sum))\n",
    "            result = result + ways\n",
    "    return result\n",
    "    \n",
    "print(how_sum(7, [5,3,4,7]))"
   ]
  },
  {
   "cell_type": "code",
   "execution_count": null,
   "id": "e5ba569f",
   "metadata": {},
   "outputs": [],
   "source": [
    "def how_sum(target_sum, numbers):\n",
    "    if target_sum == 0:\n",
    "        return [[]]\n",
    "    if target_sum < 0:\n",
    "        return None\n",
    "    result = []\n",
    "    for num in numbers:\n",
    "        remainder = target_sum-num\n",
    "        remainder_sum = how_sum(remainder, numbers)\n",
    "        if remainder_sum!= None:\n",
    "            ways = list(map(lambda x:[num] + x, remainder_sum))\n",
    "            result = result + ways\n",
    "    return result\n",
    "    \n",
    "print(how_sum(7, [5,3,4,7]))"
   ]
  }
 ],
 "metadata": {
  "kernelspec": {
   "display_name": "Python 3 (ipykernel)",
   "language": "python",
   "name": "python3"
  },
  "language_info": {
   "codemirror_mode": {
    "name": "ipython",
    "version": 3
   },
   "file_extension": ".py",
   "mimetype": "text/x-python",
   "name": "python",
   "nbconvert_exporter": "python",
   "pygments_lexer": "ipython3",
   "version": "3.8.8"
  }
 },
 "nbformat": 4,
 "nbformat_minor": 5
}
