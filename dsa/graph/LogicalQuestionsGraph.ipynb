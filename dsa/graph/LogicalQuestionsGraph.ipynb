{
 "cells": [
  {
   "cell_type": "markdown",
   "id": "bf02b1ea",
   "metadata": {},
   "source": [
    "# 1. Graph DFS Iterative"
   ]
  },
  {
   "cell_type": "code",
   "execution_count": 5,
   "id": "1fb78edc",
   "metadata": {},
   "outputs": [],
   "source": [
    "'''\n",
    "a → c\n",
    "↓   ↓\n",
    "b   e\n",
    "↓\n",
    "d → f\n",
    "'''\n",
    "\n",
    "graph = {\n",
    "    'a': ['b', 'c'],\n",
    "    'b': ['d'],\n",
    "    'c': ['e'],\n",
    "    'd': ['f'],\n",
    "    'e': [],\n",
    "    'f':[]\n",
    "}"
   ]
  },
  {
   "cell_type": "code",
   "execution_count": 6,
   "id": "0f4eeef3",
   "metadata": {},
   "outputs": [
    {
     "name": "stdout",
     "output_type": "stream",
     "text": [
      "a\n",
      "c\n",
      "e\n",
      "b\n",
      "d\n",
      "f\n"
     ]
    }
   ],
   "source": [
    "def depthFirstPrint(graph, node):\n",
    "    stack = [node]\n",
    "    while stack != []:\n",
    "        current = stack.pop()\n",
    "        print(current)\n",
    "        for i in graph[current]:\n",
    "            stack.append(i)\n",
    "            \n",
    "            \n",
    "depthFirstPrint(graph, 'a')"
   ]
  },
  {
   "cell_type": "markdown",
   "id": "fb49e385",
   "metadata": {},
   "source": [
    "# 2. Graph BFS Iterative"
   ]
  },
  {
   "cell_type": "code",
   "execution_count": 7,
   "id": "f4ed30dd",
   "metadata": {},
   "outputs": [],
   "source": [
    "'''\n",
    "a → c\n",
    "↓   ↓\n",
    "b   e\n",
    "↓\n",
    "d → f\n",
    "'''\n",
    "\n",
    "graph = {\n",
    "    'a': ['b', 'c'],\n",
    "    'b': ['d'],\n",
    "    'c': ['e'],\n",
    "    'd': ['f'],\n",
    "    'e': [],\n",
    "    'f':[]\n",
    "}"
   ]
  },
  {
   "cell_type": "code",
   "execution_count": 8,
   "id": "c0fd9cf5",
   "metadata": {},
   "outputs": [
    {
     "name": "stdout",
     "output_type": "stream",
     "text": [
      "a\n",
      "b\n",
      "c\n",
      "d\n",
      "e\n",
      "f\n"
     ]
    }
   ],
   "source": [
    "from queue import Queue\n",
    "\n",
    "\n",
    "def breadthFirstPrint(graph, node):\n",
    "    q = Queue()\n",
    "    q.put(node)\n",
    "    while not q.empty():\n",
    "        current = q.get()\n",
    "        print(current)\n",
    "        for i in graph[current]:\n",
    "            q.put(i)\n",
    "            \n",
    "            \n",
    "breadthFirstPrint(graph, 'a')"
   ]
  },
  {
   "cell_type": "markdown",
   "id": "cd43579a",
   "metadata": {},
   "source": [
    "# 3. Graph DFS recursive"
   ]
  },
  {
   "cell_type": "code",
   "execution_count": 9,
   "id": "a78f2011",
   "metadata": {},
   "outputs": [],
   "source": [
    "'''\n",
    "a → c\n",
    "↓   ↓\n",
    "b   e\n",
    "↓\n",
    "d → f\n",
    "'''\n",
    "\n",
    "graph = {\n",
    "    'a': ['b', 'c'],\n",
    "    'b': ['d'],\n",
    "    'c': ['e'],\n",
    "    'd': ['f'],\n",
    "    'e': [],\n",
    "    'f':[]\n",
    "}"
   ]
  },
  {
   "cell_type": "code",
   "execution_count": 10,
   "id": "42357a3e",
   "metadata": {},
   "outputs": [
    {
     "name": "stdout",
     "output_type": "stream",
     "text": [
      "a\n",
      "b\n",
      "d\n",
      "f\n",
      "c\n",
      "e\n"
     ]
    }
   ],
   "source": [
    "def depthFirstPrint(graph, node):\n",
    "    print(node)\n",
    "    for neighbour in graph[node]:\n",
    "        depthFirstPrint(graph, neighbour)\n",
    "        \n",
    "        \n",
    "depthFirstPrint(graph, 'a')"
   ]
  },
  {
   "cell_type": "markdown",
   "id": "2c3208e1",
   "metadata": {},
   "source": [
    "# 4. hasPath recursive (DFS)"
   ]
  },
  {
   "cell_type": "code",
   "execution_count": 7,
   "id": "465b6902",
   "metadata": {},
   "outputs": [
    {
     "data": {
      "text/plain": [
       "True"
      ]
     },
     "execution_count": 7,
     "metadata": {},
     "output_type": "execute_result"
    }
   ],
   "source": [
    "graph = {\n",
    "    'f': ['g', 'i'],\n",
    "    'g': ['h'],\n",
    "    'h': [],\n",
    "    'i': ['g', 'k'],\n",
    "    'j': ['i'],\n",
    "    'k': []\n",
    "}\n",
    "\n",
    "\n",
    "def hasPath(graph, src, dest):\n",
    "    if src == dest:\n",
    "        return True\n",
    "    \n",
    "    for neighbour in graph[src]:\n",
    "        if hasPath(graph, neighbour, dest):\n",
    "            return True\n",
    "    return False\n",
    "\n",
    "    \n",
    "hasPath(graph, 'f', 'k')"
   ]
  },
  {
   "cell_type": "markdown",
   "id": "d5c7aab6",
   "metadata": {},
   "source": [
    "# 5. hasPath iterative (BFS)"
   ]
  },
  {
   "cell_type": "code",
   "execution_count": 17,
   "id": "854bd0ac",
   "metadata": {},
   "outputs": [
    {
     "data": {
      "text/plain": [
       "True"
      ]
     },
     "execution_count": 17,
     "metadata": {},
     "output_type": "execute_result"
    }
   ],
   "source": [
    "import queue\n",
    "\n",
    "graph = {\n",
    "    'f': ['g', 'i'],\n",
    "    'g': ['h'],\n",
    "    'h': [],\n",
    "    'i': ['g', 'k'],\n",
    "    'j': ['i'],\n",
    "    'k': []\n",
    "}\n",
    "\n",
    "\n",
    "def hasPath(graph, src, dest):\n",
    "    q = queue.Queue()\n",
    "    q.put(src)\n",
    "    while not q.empty():\n",
    "        current = q.get()\n",
    "        if current == dest: return True\n",
    "        for neighbour in graph[current]:\n",
    "            q.put(neighbour)\n",
    "    return False\n",
    "\n",
    "\n",
    "hasPath(graph, 'f', 'g')"
   ]
  },
  {
   "cell_type": "markdown",
   "id": "09323693",
   "metadata": {},
   "source": [
    "# 6. undirected path"
   ]
  },
  {
   "cell_type": "code",
   "execution_count": 2,
   "id": "2fcba8df",
   "metadata": {},
   "outputs": [
    {
     "data": {
      "text/plain": [
       "defaultdict(list,\n",
       "            {'i': ['j', 'k'],\n",
       "             'j': ['i'],\n",
       "             'k': ['i', 'm', 'l'],\n",
       "             'm': ['k'],\n",
       "             'l': ['k'],\n",
       "             'o': ['n'],\n",
       "             'n': ['o']})"
      ]
     },
     "execution_count": 2,
     "metadata": {},
     "output_type": "execute_result"
    }
   ],
   "source": [
    "from collections import defaultdict\n",
    "\n",
    "edges = [\n",
    "    ['i', 'j'],\n",
    "    ['k', 'i'],\n",
    "    ['m', 'k'],\n",
    "    ['k', 'l'],\n",
    "    ['o', 'n']\n",
    "]\n",
    "\n",
    "def buildGraph(edges):\n",
    "    graph = defaultdict(list)\n",
    "    for i in edges:\n",
    "        graph[i[0]].append(i[1])\n",
    "        graph[i[1]].append(i[0])\n",
    "    \n",
    "    return graph\n",
    "\n",
    "buildGraph(edges)"
   ]
  },
  {
   "cell_type": "code",
   "execution_count": 3,
   "id": "12c120c8",
   "metadata": {},
   "outputs": [
    {
     "data": {
      "text/plain": [
       "True"
      ]
     },
     "execution_count": 3,
     "metadata": {},
     "output_type": "execute_result"
    }
   ],
   "source": [
    "def undirectedPath(edges, src, dest):\n",
    "    graph = buildGraph(edges)\n",
    "    return hasPath(graph, src, dest, set())\n",
    "\n",
    "\n",
    "def hasPath(graph, src, dest, visited):\n",
    "    \n",
    "    if src == dest: \n",
    "        return True\n",
    "    \n",
    "    # handling infinite cycles=======\n",
    "    if src in visited: \n",
    "        return False\n",
    "    \n",
    "    visited.add(src)\n",
    "    # ===============================\n",
    "\n",
    "    for neighbour in graph[src]:\n",
    "        if hasPath(graph, neighbour, dest, visited):\n",
    "            return True\n",
    "        \n",
    "    return False\n",
    "\n",
    "undirectedPath(edges, 'i', 'k')"
   ]
  },
  {
   "cell_type": "markdown",
   "id": "14e02db5",
   "metadata": {},
   "source": [
    "# 7. Count components"
   ]
  },
  {
   "cell_type": "code",
   "execution_count": 44,
   "id": "2f3c17b3",
   "metadata": {},
   "outputs": [
    {
     "data": {
      "text/plain": [
       "3"
      ]
     },
     "execution_count": 44,
     "metadata": {},
     "output_type": "execute_result"
    }
   ],
   "source": [
    "graph = {\n",
    "    3: [],\n",
    "    4: [6],\n",
    "    6: [4,5,7,8],\n",
    "    8: [6],\n",
    "    7: [6],\n",
    "    5: [6],\n",
    "    1: [2],\n",
    "    2: [1]\n",
    "}\n",
    "\n",
    "\n",
    "def explore(source, graph, visited):\n",
    "    \n",
    "    if source in visited:\n",
    "        return False\n",
    "    \n",
    "    visited.add(source)\n",
    "        \n",
    "    for neighbour in graph[source]:\n",
    "        explore(neighbour, graph, visited)\n",
    "        \n",
    "    return True\n",
    "\n",
    "\n",
    "def countComponents(graph):\n",
    "    cnt = 0\n",
    "    visited = set()\n",
    "    for source in graph.keys():\n",
    "        \n",
    "        if explore(source, graph, visited):\n",
    "            cnt += 1\n",
    "    return cnt\n",
    "\n",
    "\n",
    "countComponents(graph)"
   ]
  },
  {
   "cell_type": "markdown",
   "id": "bf51bcca",
   "metadata": {},
   "source": [
    "# 8. Largest component"
   ]
  },
  {
   "cell_type": "code",
   "execution_count": 42,
   "id": "ade17c34",
   "metadata": {},
   "outputs": [
    {
     "data": {
      "text/plain": [
       "4"
      ]
     },
     "execution_count": 42,
     "metadata": {},
     "output_type": "execute_result"
    }
   ],
   "source": [
    "graph = {\n",
    "    0: [8,1,5],\n",
    "    1: [0],\n",
    "    5: [0,8],\n",
    "    8: [0,5],\n",
    "    2: [3,4],\n",
    "    3: [2,4],\n",
    "    4: [3,2]\n",
    "}\n",
    "\n",
    "\n",
    "def explore(source, graph, visited):\n",
    "    \n",
    "    if source in visited:\n",
    "        return 0\n",
    "    \n",
    "    visited.add(source)\n",
    "    size = 1\n",
    "    for neighbour in graph[source]:\n",
    "        size += explore(neighbour, graph, visited)\n",
    "    return size\n",
    "\n",
    "\n",
    "def largestComponent(graph):\n",
    "    visited = set()\n",
    "    max_size = 0\n",
    "    for source in graph.keys():\n",
    "        size = explore(source, graph, visited)\n",
    "        if max_size < size:\n",
    "            max_size = size\n",
    "            \n",
    "    return max_size\n",
    "\n",
    "\n",
    "largestComponent(graph)"
   ]
  },
  {
   "cell_type": "markdown",
   "id": "c324bc39",
   "metadata": {},
   "source": [
    "# 9. Shortest path"
   ]
  },
  {
   "cell_type": "code",
   "execution_count": 1,
   "id": "203468f2",
   "metadata": {},
   "outputs": [
    {
     "data": {
      "text/plain": [
       "2"
      ]
     },
     "execution_count": 1,
     "metadata": {},
     "output_type": "execute_result"
    }
   ],
   "source": [
    "from collections import defaultdict\n",
    "import queue\n",
    "\n",
    "edges = [\n",
    "    ['w', 'x'],\n",
    "    ['x', 'y'],\n",
    "    ['z', 'y'],\n",
    "    ['z', 'v'],\n",
    "    ['w', 'v']\n",
    "]\n",
    "\n",
    "\n",
    "def buildGraph(edges):\n",
    "    graph = defaultdict(list)\n",
    "    for i in edges:\n",
    "        graph[i[0]].append(i[1])\n",
    "        graph[i[1]].append(i[0])\n",
    "    return graph\n",
    "\n",
    "\n",
    "def shortestPath(edges, source, dest):\n",
    "    \n",
    "    graph = buildGraph(edges)\n",
    "    visited = set(source)\n",
    "    \n",
    "    q = queue.Queue()\n",
    "    q.put((source, 0))\n",
    "    \n",
    "    while not q.empty():\n",
    "        \n",
    "        current, distance = q.get()\n",
    "        if current == dest:\n",
    "            return distance\n",
    "        \n",
    "        for neighbor in graph[current]:\n",
    "            if neighbor not in visited:\n",
    "                visited.add(neighbor)\n",
    "                q.put((neighbor, distance + 1))\n",
    "    return -1\n",
    "\n",
    "                \n",
    "shortestPath(edges, 'w', 'z')"
   ]
  },
  {
   "cell_type": "markdown",
   "id": "479a80a9",
   "metadata": {},
   "source": [
    "# 10. Island count"
   ]
  },
  {
   "cell_type": "code",
   "execution_count": 15,
   "id": "e50cbb5a",
   "metadata": {},
   "outputs": [
    {
     "data": {
      "text/plain": [
       "3"
      ]
     },
     "execution_count": 15,
     "metadata": {},
     "output_type": "execute_result"
    }
   ],
   "source": [
    "grid = [\n",
    "  ['W', 'L', 'W', 'W', 'W'],\n",
    "  ['W', 'L', 'W', 'W', 'W'],\n",
    "  ['W', 'W', 'W', 'L', 'W'],\n",
    "  ['W', 'W', 'L', 'L', 'W'],\n",
    "  ['L', 'W', 'W', 'L', 'L'],\n",
    "  ['L', 'L', 'W', 'W', 'W'],\n",
    "]\n",
    "\n",
    "\n",
    "def explore(grid, r, c, visited):\n",
    "    \n",
    "    row_inbounds = (0 <= r < len(grid))\n",
    "    col_inbounds = (0 <= c < len(grid[0]))\n",
    "\n",
    "    if not (row_inbounds and col_inbounds):\n",
    "        return False\n",
    "    \n",
    "    if grid[r][c] == 'W':\n",
    "        return False\n",
    "    \n",
    "    pos = (r,c)\n",
    "    if pos in visited:\n",
    "        return False\n",
    "    \n",
    "    visited.add(pos)\n",
    "    \n",
    "    explore(grid, r-1, c, visited)\n",
    "    explore(grid, r+1, c, visited)\n",
    "    explore(grid, r, c-1, visited)\n",
    "    explore(grid, r, c+1, visited)\n",
    "                \n",
    "    return True\n",
    "\n",
    "\n",
    "def islandCount(grid):\n",
    "    visited = set()\n",
    "    cnt = 0\n",
    "    for r in range(len(grid)):\n",
    "        for c in range(len(grid[0])):\n",
    "            if explore(grid, r, c, visited):\n",
    "                cnt += 1\n",
    "    return cnt\n",
    "\n",
    "islandCount(grid)"
   ]
  },
  {
   "cell_type": "markdown",
   "id": "cc5a7dda",
   "metadata": {},
   "source": [
    "# 11. Minimum island"
   ]
  },
  {
   "cell_type": "code",
   "execution_count": 51,
   "id": "c2eb048d",
   "metadata": {},
   "outputs": [
    {
     "data": {
      "text/plain": [
       "2"
      ]
     },
     "execution_count": 51,
     "metadata": {},
     "output_type": "execute_result"
    }
   ],
   "source": [
    "grid = [\n",
    "  ['W', 'L', 'W', 'W', 'W'],\n",
    "  ['W', 'L', 'W', 'W', 'W'],\n",
    "  ['W', 'W', 'W', 'L', 'W'],\n",
    "  ['W', 'W', 'L', 'L', 'W'],\n",
    "  ['L', 'W', 'W', 'L', 'L'],\n",
    "  ['L', 'L', 'W', 'W', 'W'],\n",
    "]\n",
    "\n",
    "# minimumIsland(grid); // -> 2\n",
    "\n",
    "def explore(grid, visited, r, c):\n",
    "    \n",
    "    row_inbound = (0 <= r < len(grid))\n",
    "    col_inbound = (0 <= c < len(grid[0]))\n",
    "    if not (row_inbound and col_inbound):\n",
    "        return 0\n",
    "    \n",
    "    if grid[r][c] == 'W':\n",
    "        return 0 \n",
    "    \n",
    "    pos = (r, c)\n",
    "    if pos in visited:\n",
    "        return 0\n",
    "    visited.add(pos)\n",
    "    \n",
    "    size = 1\n",
    "    size += explore(grid, visited, r+1, c)\n",
    "    size += explore(grid, visited, r-1, c)\n",
    "    size += explore(grid, visited, r, c+1)\n",
    "    size += explore(grid, visited, r, c-1)\n",
    "    \n",
    "    return size\n",
    "\n",
    "\n",
    "def minimumIsland(grid):\n",
    "    visited = set()\n",
    "    minimum = float('inf')\n",
    "    \n",
    "    for r in range(len(grid)):\n",
    "        for c in range(len(grid[0])):\n",
    "            \n",
    "            size = explore(grid, visited, r, c)\n",
    "                \n",
    "            if size != 0 and size < minimum:\n",
    "                minimum = size\n",
    "        \n",
    "    return minimum\n",
    "\n",
    "\n",
    "minimumIsland(grid)"
   ]
  },
  {
   "cell_type": "code",
   "execution_count": null,
   "id": "2889bef2",
   "metadata": {},
   "outputs": [],
   "source": []
  },
  {
   "cell_type": "code",
   "execution_count": null,
   "id": "c5719593",
   "metadata": {},
   "outputs": [],
   "source": []
  }
 ],
 "metadata": {
  "kernelspec": {
   "display_name": "Python 3 (ipykernel)",
   "language": "python",
   "name": "python3"
  },
  "language_info": {
   "codemirror_mode": {
    "name": "ipython",
    "version": 3
   },
   "file_extension": ".py",
   "mimetype": "text/x-python",
   "name": "python",
   "nbconvert_exporter": "python",
   "pygments_lexer": "ipython3",
   "version": "3.11.5"
  }
 },
 "nbformat": 4,
 "nbformat_minor": 5
}
