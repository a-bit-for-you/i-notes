{
 "cells": [
  {
   "cell_type": "markdown",
   "metadata": {},
   "source": [
    "# Sentence Reversal\n",
    "\n",
    "## Problem\n",
    "\n",
    "Given a string of words, reverse all the words. For example:\n",
    "\n",
    "Given:\n",
    "    \n",
    "    'This is the best'\n",
    "\n",
    "Return:\n",
    "\n",
    "    'best the is This'\n",
    "\n",
    "As part of this exercise you should remove all leading and trailing whitespace. So that inputs such as:\n",
    "\n",
    "    '  space here'  and 'space here      '\n",
    "\n",
    "both become:\n",
    "\n",
    "    'here space'\n",
    "\n",
    "## Solution\n",
    "\n",
    "Fill out your solution below:"
   ]
  },
  {
   "cell_type": "code",
   "execution_count": 50,
   "metadata": {},
   "outputs": [],
   "source": [
    "def rev_word(s):\n",
    "    s = s.strip()\n",
    "    s2 = ''\n",
    "    for i in s.split()[::-1]:\n",
    "        s2 += ' ' + i\n",
    "    return s2[1:]"
   ]
  },
  {
   "cell_type": "code",
   "execution_count": 51,
   "metadata": {},
   "outputs": [
    {
     "name": "stdout",
     "output_type": "stream",
     "text": [
      "1.16 µs ± 15.7 ns per loop (mean ± std. dev. of 7 runs, 1000000 loops each)\n"
     ]
    }
   ],
   "source": [
    "%timeit rev_word('Hi John,   are you ready to go?')"
   ]
  },
  {
   "cell_type": "code",
   "execution_count": 52,
   "metadata": {},
   "outputs": [],
   "source": [
    "def rev_word(s):\n",
    "    s = s.strip().split()\n",
    "    s2 = []\n",
    "    for i in s[::-1]:\n",
    "        s2.append(i)\n",
    "    return ' '.join(s2)\n",
    "#     print(' '.join(s2))"
   ]
  },
  {
   "cell_type": "code",
   "execution_count": 55,
   "metadata": {},
   "outputs": [],
   "source": [
    "def rev_word(s):\n",
    "    return ' '.join(s.strip().split()[::-1])"
   ]
  },
  {
   "cell_type": "code",
   "execution_count": 72,
   "metadata": {},
   "outputs": [],
   "source": [
    "def rev_word(s):\n",
    "    lst = []\n",
    "    starting_space_count = 0\n",
    "    ending_space_count = 0\n",
    "    new_index = 0\n",
    "    leading_spaces_end = False\n",
    "    for i in s:\n",
    "        if i == ' ' and leading_spaces_end == False:\n",
    "            starting_space_count += 1\n",
    "        else:\n",
    "            leading_spaces_end = True\n",
    "        if leading_spaces_end:\n",
    "            lst.append(i)\n",
    "    lst2 = []\n",
    "    leading_spaces_end = False\n",
    "    starting_space_count = 0\n",
    "    word = []\n",
    "    cnt = 1\n",
    "    for i in lst[::-1]:\n",
    "        \n",
    "        if i == ' ' and leading_spaces_end == False:\n",
    "            starting_space_count += 1\n",
    "        else:\n",
    "            leading_spaces_end = True\n",
    "        if leading_spaces_end:\n",
    "            word.append(i)\n",
    "            if i == ' ' or cnt == len(lst):\n",
    "                rev_word = []\n",
    "                for j in word[::-1]:\n",
    "                    if j != ' ':\n",
    "                        rev_word.append(j)\n",
    "                if rev_word:\n",
    "                    lst2.append(''.join(rev_word))\n",
    "                word = []\n",
    "        cnt += 1\n",
    "        \n",
    "    return ' '.join(lst2)"
   ]
  },
  {
   "cell_type": "code",
   "execution_count": 20,
   "metadata": {},
   "outputs": [
    {
     "data": {
      "text/plain": [
       "'you are how John Hello'"
      ]
     },
     "execution_count": 20,
     "metadata": {},
     "output_type": "execute_result"
    }
   ],
   "source": [
    "# jose\n",
    "\n",
    "def rev_word(s):\n",
    "    words = []\n",
    "    i = 0\n",
    "    len_word = len(s)\n",
    "    word_start = 0\n",
    "    while i < len_word:\n",
    "#         print(s[i])\n",
    "        if s[i] != ' ':\n",
    "            word_start = i\n",
    "            while i < len_word and s[i] != ' ':\n",
    "                i += 1\n",
    "            words.append(s[word_start:i])\n",
    "        i+=1\n",
    "    return words\n",
    "words = rev_word('   Hello John    how are you   ')\n",
    "words\n",
    "def final_output(words):\n",
    "    for i in words[::-1]:\n",
    "        yield i\n",
    "' '.join(final_output(words))"
   ]
  },
  {
   "cell_type": "code",
   "execution_count": 21,
   "metadata": {},
   "outputs": [],
   "source": [
    "def rev_word(s):\n",
    "    len_word = len(s)\n",
    "    i = 0\n",
    "    word_start = 0\n",
    "    words = []\n",
    "    while i < len_word:\n",
    "        if s[i] != ' ':\n",
    "            word_start = i\n",
    "            while i < len_word and s[i] != ' ':\n",
    "                i += 1\n",
    "            words.append(s[word_start:i])\n",
    "        i += 1\n",
    "    \n",
    "    return ' '.join(i for i in words[::-1])\n",
    "    "
   ]
  },
  {
   "cell_type": "code",
   "execution_count": 22,
   "metadata": {},
   "outputs": [
    {
     "data": {
      "text/plain": [
       "'go? to ready you are John, Hi'"
      ]
     },
     "execution_count": 22,
     "metadata": {},
     "output_type": "execute_result"
    }
   ],
   "source": [
    "rev_word('Hi John,   are you ready to go?')"
   ]
  },
  {
   "cell_type": "code",
   "execution_count": 23,
   "metadata": {},
   "outputs": [
    {
     "data": {
      "text/plain": [
       "'before space'"
      ]
     },
     "execution_count": 23,
     "metadata": {},
     "output_type": "execute_result"
    }
   ],
   "source": [
    "rev_word('    space before')"
   ]
  },
  {
   "cell_type": "markdown",
   "metadata": {},
   "source": [
    "_____"
   ]
  },
  {
   "cell_type": "markdown",
   "metadata": {},
   "source": [
    "# Test Your Solution"
   ]
  },
  {
   "cell_type": "code",
   "execution_count": 24,
   "metadata": {},
   "outputs": [
    {
     "name": "stdout",
     "output_type": "stream",
     "text": [
      "ALL TEST CASES PASSED\n"
     ]
    }
   ],
   "source": [
    "\"\"\"\n",
    "RUN THIS CELL TO TEST YOUR SOLUTION\n",
    "\"\"\"\n",
    "\n",
    "from nose.tools import assert_equal\n",
    "\n",
    "class ReversalTest(object):\n",
    "    \n",
    "    def test(self,sol):\n",
    "        assert_equal(sol('    space before'),'before space')\n",
    "        assert_equal(sol('space after     '),'after space')\n",
    "        assert_equal(sol('   Hello John    how are you   '),'you are how John Hello')\n",
    "        assert_equal(sol('1'),'1')\n",
    "        print(\"ALL TEST CASES PASSED\")\n",
    "        \n",
    "# Run and test\n",
    "t = ReversalTest()\n",
    "t.test(rev_word)"
   ]
  },
  {
   "cell_type": "markdown",
   "metadata": {},
   "source": [
    "## Good Job!"
   ]
  }
 ],
 "metadata": {
  "kernelspec": {
   "display_name": "Python 3 (ipykernel)",
   "language": "python",
   "name": "python3"
  },
  "language_info": {
   "codemirror_mode": {
    "name": "ipython",
    "version": 3
   },
   "file_extension": ".py",
   "mimetype": "text/x-python",
   "name": "python",
   "nbconvert_exporter": "python",
   "pygments_lexer": "ipython3",
   "version": "3.8.8"
  }
 },
 "nbformat": 4,
 "nbformat_minor": 1
}
