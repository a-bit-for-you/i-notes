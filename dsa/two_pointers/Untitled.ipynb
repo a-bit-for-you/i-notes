{
 "cells": [
  {
   "cell_type": "code",
   "execution_count": 8,
   "id": "5f1c6fe6-9536-442d-813a-d0b198c804ec",
   "metadata": {},
   "outputs": [
    {
     "name": "stdout",
     "output_type": "stream",
     "text": [
      "0 6\n",
      "[1, 2, 3, 0, 0, 6]\n",
      "0 5\n",
      "[1, 2, 3, 0, 5, 6]\n",
      "0 2\n",
      "[1, 2, 2, 3, 5, 6]\n"
     ]
    },
    {
     "data": {
      "text/plain": [
       "[1, 2, 2, 3, 5, 6]"
      ]
     },
     "execution_count": 8,
     "metadata": {},
     "output_type": "execute_result"
    }
   ],
   "source": [
    "nums1 = [1,2,3,0,0,0] \n",
    "nums2 = [2,5,6]\n",
    "m = 3\n",
    "n = 3\n",
    "\n",
    "l = n-1\n",
    "len_nums1 = (len(nums1))\n",
    "for r in range(len_nums1-1,n-1,-1):\n",
    "    print(nums1[r],nums2[l])\n",
    "    nums1[r] = nums2[l]\n",
    "    if nums1[r-1] >= nums2[l]:\n",
    "        nums1[r], nums1[r-1] = nums1[r-1], nums1[r]\n",
    "    l -= 1\n",
    "    print(nums1)\n",
    "    # break\n",
    "nums1"
   ]
  },
  {
   "cell_type": "code",
   "execution_count": null,
   "id": "36b82001-ca96-43c4-b253-d2a8ff8548d7",
   "metadata": {},
   "outputs": [],
   "source": []
  },
  {
   "cell_type": "code",
   "execution_count": 15,
   "id": "9310a03b-af18-4115-b13e-595375a25130",
   "metadata": {},
   "outputs": [
    {
     "data": {
      "text/plain": [
       "[1, 2, 3, 4, 5, 6]"
      ]
     },
     "execution_count": 15,
     "metadata": {},
     "output_type": "execute_result"
    }
   ],
   "source": [
    "nums1 = [4,5,6,0,0,0]\n",
    "\n",
    "nums2 = [1,2,3]\n",
    "\n",
    "m = 3\n",
    "n = 3\n",
    "\n",
    "l = 0\n",
    "r = n\n",
    "for i in range(m+n):\n",
    "    # print(r, nums1[r])\n",
    "    if nums2[l] <= nums1[l]:\n",
    "        nums1[r] = nums1[i]\n",
    "        nums1[i] = nums2[l]\n",
    "        r += 1\n",
    "        \n",
    "        if l == n-1:\n",
    "            break\n",
    "        l += 1\n",
    "    # print(nums1)\n",
    "        \n",
    "nums1"
   ]
  },
  {
   "cell_type": "code",
   "execution_count": 2,
   "id": "7944e6cd-9a16-491d-ad98-fbced93557b6",
   "metadata": {},
   "outputs": [
    {
     "data": {
      "text/plain": [
       "[1, 2, 3, 4, 5, 6]"
      ]
     },
     "execution_count": 2,
     "metadata": {},
     "output_type": "execute_result"
    }
   ],
   "source": [
    "nums1 = [4,5,6,0,0,0]\n",
    "\n",
    "nums2 = [1,2,3]\n",
    "\n",
    "m = 3\n",
    "n = 3\n",
    "\n",
    "l = 0\n",
    "r = n\n",
    "\n",
    "while l < n:\n",
    "    if nums2[l] <= nums1[l]:\n",
    "        nums1[r] = nums1[l]\n",
    "        nums1[l] = nums2[l]\n",
    "        r += 1\n",
    "        l += 1\n",
    "    else:\n",
    "        l += 1\n",
    "    # print(nums1)\n",
    "        \n",
    "nums1"
   ]
  },
  {
   "cell_type": "code",
   "execution_count": 5,
   "id": "ac7b1d86-2486-48f6-ba36-ac839b226aec",
   "metadata": {},
   "outputs": [
    {
     "name": "stdout",
     "output_type": "stream",
     "text": [
      "i: 0, l: 0, r:3\n",
      "[1, 2, 3, 2, 0, 0]\n",
      "===================\n",
      "i: 1, l: 1, r:4\n",
      "[1, 2, 3, 2, 5, 0]\n",
      "===================\n",
      "i: 2, l: 2, r:5\n",
      "[1, 2, 2, 3, 5, 6]\n",
      "===================\n"
     ]
    },
    {
     "data": {
      "text/plain": [
       "[1, 2, 2, 3, 5, 6]"
      ]
     },
     "execution_count": 5,
     "metadata": {},
     "output_type": "execute_result"
    }
   ],
   "source": [
    "nums1 = [1,2,3,0,0,0] \n",
    "nums2 = [2,5,6]\n",
    "m = 3\n",
    "n = 3\n",
    "l = 0\n",
    "r = n\n",
    "i = 0\n",
    "while l < n:\n",
    "    print(f'i: {i}, l: {l}, r:{r}')\n",
    "    if nums2[l] <= nums1[i]:\n",
    "        nums1[r] = nums1[i]\n",
    "        nums1[i] = nums2[l]\n",
    "        r += 1\n",
    "        l += 1\n",
    "        i += 1\n",
    "    else:\n",
    "        if nums1[i] > nums1[i+1]:\n",
    "            nums1[i], nums1[i+1] = nums1[i+1], nums1[i]\n",
    "        nums1[r] = nums2[l]\n",
    "        r += 1\n",
    "        l += 1\n",
    "        i += 1\n",
    "    print(nums1)\n",
    "    print('===================')\n",
    "    \n",
    "        \n",
    "nums1"
   ]
  },
  {
   "cell_type": "code",
   "execution_count": 18,
   "id": "4558d1e6-2ef2-4465-bbab-ecf8142c5f55",
   "metadata": {},
   "outputs": [
    {
     "name": "stdout",
     "output_type": "stream",
     "text": [
      "i: 0, l: 0, r:5\n",
      "[1, 2, 4, 5, 6, 3]\n",
      "===================\n"
     ]
    },
    {
     "data": {
      "text/plain": [
       "[1, 2, 4, 5, 6, 3]"
      ]
     },
     "execution_count": 18,
     "metadata": {},
     "output_type": "execute_result"
    }
   ],
   "source": [
    "nums1 = [1,2,4,5,6,0]\n",
    "nums2 = [3]\n",
    "m = 5\n",
    "n = 1\n",
    "l = 0\n",
    "r = m\n",
    "i = 0\n",
    "while l < n:\n",
    "    print(f'i: {i}, l: {l}, r:{r}')\n",
    "    if nums2[l] <= nums1[i]:\n",
    "        nums1[r] = nums1[i]\n",
    "        nums1[i] = nums2[l]\n",
    "        r += 1\n",
    "        l += 1\n",
    "        i += 1\n",
    "    else:\n",
    "        if nums1[i] > nums1[i+1]:\n",
    "            nums1[i], nums1[i+1] = nums1[i+1], nums1[i]\n",
    "        nums1[r] = nums2[l]\n",
    "        r += 1\n",
    "        l += 1\n",
    "        i += 1\n",
    "    print(nums1)\n",
    "    print('===================')\n",
    "    \n",
    "        \n",
    "nums1\n"
   ]
  },
  {
   "cell_type": "code",
   "execution_count": 30,
   "id": "620f543c-2fa8-4a5e-80b7-ee030af9b363",
   "metadata": {},
   "outputs": [
    {
     "name": "stdout",
     "output_type": "stream",
     "text": [
      "else\n",
      "0 6 0\n",
      "[-1, 0, 0, 3, 3, 3, 1, 0, 0]\n",
      "ifffff\n",
      "[-1, 2, 0, 3, 3, 3, 1, 0, 0]\n",
      "ifffff\n",
      "[-1, 2, 2, 3, 3, 3, 1, 0, 0]\n",
      "hi\n",
      "[-1, 2, 2, 3, 3, 3, 0, 1, 0]\n",
      "hi\n",
      "[-1, 2, 2, 3, 3, 0, 3, 1, 0]\n",
      "hi\n",
      "[-1, 2, 2, 3, 0, 3, 3, 1, 0]\n",
      "hi\n",
      "[-1, 2, 2, 0, 3, 3, 3, 1, 0]\n",
      "hi\n",
      "[-1, 2, 0, 2, 3, 3, 3, 1, 0]\n",
      "hi\n",
      "[-1, 0, 2, 2, 3, 3, 3, 1, 0]\n"
     ]
    },
    {
     "data": {
      "text/plain": [
       "[-1, 0, 2, 2, 3, 3, 3, 1, 0]"
      ]
     },
     "execution_count": 30,
     "metadata": {},
     "output_type": "execute_result"
    }
   ],
   "source": [
    "nums1 = [-1,0,0,3,3,3,0,0,0]  # op [-1,0,0,1,2,2,3,3,3]\n",
    "nums2 = [1,2,2]\n",
    "m = 6\n",
    "n = 3\n",
    "if m == 0 and n== 1:\n",
    "    nums1[0] = nums2[0]\n",
    "elif nums2 != []:\n",
    "    l = 0\n",
    "    r = m\n",
    "    i = 0\n",
    "    while l < n:\n",
    "        if nums1[i] == 0:\n",
    "            print('ifffff')\n",
    "            nums1[i] = nums2[l]\n",
    "            r += 1\n",
    "            l += 1\n",
    "            i += 1\n",
    "        elif nums2[l] <= nums1[i]:\n",
    "            print('elif')\n",
    "            nums1[r] = nums1[i]\n",
    "            nums1[i] = nums2[l]\n",
    "            r += 1\n",
    "            l += 1\n",
    "            i += 1\n",
    "        else:\n",
    "            print('else')\n",
    "            if nums1[i] > nums1[i+1] and nums1[i+1] != 0:\n",
    "                print('yo')\n",
    "                nums1[i], nums1[i+1] = nums1[i+1], nums1[i]\n",
    "            nums1[r] = nums2[l]\n",
    "            print(l,r,i)\n",
    "            r += 1\n",
    "            l += 1\n",
    "            i += 1\n",
    "        print(nums1)\n",
    "        # break\n",
    "for k in range(m+n-1, 0, -1):\n",
    "    # print(nums1[k])\n",
    "    if nums1[k] < nums1[k-1]:\n",
    "        print('hi')\n",
    "        nums1[k], nums1[k-1] = nums1[k-1], nums1[k]\n",
    "        print(nums1)\n",
    "nums1\n",
    "# nums1 = [-1,0,0,3,3,3,0,0,0]\n",
    "# nums2 = [1,2,2]\n",
    "# op [-1,0,0,1,2,2,3,3,3]"
   ]
  },
  {
   "cell_type": "code",
   "execution_count": 40,
   "id": "5ac530b8-5661-4cc2-a7e2-424b009e0d16",
   "metadata": {},
   "outputs": [
    {
     "data": {
      "text/plain": [
       "[-1, 0, 0, 1, 2, 2, 3, 3, 3]"
      ]
     },
     "execution_count": 40,
     "metadata": {},
     "output_type": "execute_result"
    }
   ],
   "source": [
    "nums1 = [-1,0,0,3,3,3,0,0,0]  # op [-1,0,0,1,2,2,3,3,3]\n",
    "nums2 = [1,2,2]\n",
    "m = 6\n",
    "n = 3\n",
    "\n",
    "i = 0\n",
    "j = 0\n",
    "r = m\n",
    "while i < m+n and r < m+n:\n",
    "    while i < m+n and nums1[i] < nums2[j]:\n",
    "        i += 1\n",
    "    nums1[r] = nums1[i]\n",
    "    nums1[i] = nums2[j]\n",
    "    j += 1\n",
    "    r += 1\n",
    "    \n",
    "for k in range(m+n-1, 0, -1):\n",
    "    \n",
    "    if nums1[k] < nums1[k-1]:\n",
    "        nums1[k], nums1[k-1] = nums1[k-1], nums1[k]\n",
    "nums1\n"
   ]
  },
  {
   "cell_type": "code",
   "execution_count": 9,
   "id": "71bc40ea-0025-4623-a9ea-551d8c3d8d1e",
   "metadata": {},
   "outputs": [
    {
     "name": "stdout",
     "output_type": "stream",
     "text": [
      "1 0 5\n",
      "hi\n",
      "[1, 2, 3, 0, 0, 2]\n",
      "------------------\n",
      "5 1 5\n",
      "[1, 2, 3, 0, 0, 5]\n",
      "------------------\n",
      "5 2 5\n",
      "[1, 2, 3, 0, 0, 6]\n",
      "------------------\n",
      "5 3 5\n"
     ]
    },
    {
     "ename": "IndexError",
     "evalue": "list index out of range",
     "output_type": "error",
     "traceback": [
      "\u001b[1;31m---------------------------------------------------------------------------\u001b[0m",
      "\u001b[1;31mIndexError\u001b[0m                                Traceback (most recent call last)",
      "Cell \u001b[1;32mIn[9], line 18\u001b[0m\n\u001b[0;32m     16\u001b[0m     \u001b[38;5;28mprint\u001b[39m(\u001b[38;5;124m'\u001b[39m\u001b[38;5;124mhi\u001b[39m\u001b[38;5;124m'\u001b[39m)\n\u001b[0;32m     17\u001b[0m     nums1[r] \u001b[38;5;241m=\u001b[39m nums1[i]\n\u001b[1;32m---> 18\u001b[0m nums1[i] \u001b[38;5;241m=\u001b[39m nums2[j]\n\u001b[0;32m     20\u001b[0m \u001b[38;5;66;03m# print(nums1)\u001b[39;00m\n\u001b[0;32m     21\u001b[0m \u001b[38;5;66;03m# if i < m+n-1 and nums1[i] > nums1[i+1]:\u001b[39;00m\n\u001b[0;32m     22\u001b[0m \u001b[38;5;66;03m#     print('hi')\u001b[39;00m\n\u001b[0;32m     23\u001b[0m \u001b[38;5;66;03m#     nums1[i], nums[i+1] = nums[i+1], nums[i]\u001b[39;00m\n\u001b[0;32m     26\u001b[0m j \u001b[38;5;241m+\u001b[39m\u001b[38;5;241m=\u001b[39m \u001b[38;5;241m1\u001b[39m\n",
      "\u001b[1;31mIndexError\u001b[0m: list index out of range"
     ]
    }
   ],
   "source": [
    "nums1 = [1,2,3,0,0,0]  # op [1, 2, 2, 3, 5, 6]\n",
    "nums2 = [2,5,6]\n",
    "m = 3\n",
    "n = 3\n",
    "\n",
    "i = 0\n",
    "j = 0\n",
    "r = m+n-1\n",
    "while i < m+n:\n",
    "    # if nums1[i] > nums1[r]:\n",
    "    #     nums1[i], nums1[r] = nums1[r], nums1[i]\n",
    "    while i < m+n-1 and nums1[i] < nums2[j]:\n",
    "        i += 1\n",
    "    print(i,j,r)\n",
    "    if nums1[r] == 0:\n",
    "        print('hi')\n",
    "        nums1[r] = nums1[i]\n",
    "    nums1[i] = nums2[j]\n",
    "    \n",
    "    # print(nums1)\n",
    "    # if i < m+n-1 and nums1[i] > nums1[i+1]:\n",
    "    #     print('hi')\n",
    "    #     nums1[i], nums[i+1] = nums[i+1], nums[i]\n",
    "\n",
    "\n",
    "    j += 1\n",
    "    # break\n",
    "    print(nums1)\n",
    "    print('------------------')\n",
    "    \n",
    "# for k in range(m+n-1, 0, -1):\n",
    "    \n",
    "#     if nums1[k] < nums1[k-1]:\n",
    "#         nums1[k], nums1[k-1] = nums1[k-1], nums1[k]\n",
    "nums1\n"
   ]
  },
  {
   "cell_type": "code",
   "execution_count": null,
   "id": "e7ad4853-58aa-4b3c-a636-491939e84afd",
   "metadata": {},
   "outputs": [],
   "source": []
  }
 ],
 "metadata": {
  "kernelspec": {
   "display_name": "Python 3 (ipykernel)",
   "language": "python",
   "name": "python3"
  },
  "language_info": {
   "codemirror_mode": {
    "name": "ipython",
    "version": 3
   },
   "file_extension": ".py",
   "mimetype": "text/x-python",
   "name": "python",
   "nbconvert_exporter": "python",
   "pygments_lexer": "ipython3",
   "version": "3.11.5"
  }
 },
 "nbformat": 4,
 "nbformat_minor": 5
}
