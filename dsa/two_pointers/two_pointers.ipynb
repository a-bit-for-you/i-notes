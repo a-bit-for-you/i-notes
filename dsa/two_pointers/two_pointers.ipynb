{
 "cells": [
  {
   "cell_type": "markdown",
   "id": "a220a977-4b8a-49d1-b516-e989575e07c1",
   "metadata": {},
   "source": [
    "# 1. Move zeroes"
   ]
  },
  {
   "cell_type": "markdown",
   "id": "20e2bba5-143e-4e4a-9d6d-c22c74c5baab",
   "metadata": {},
   "source": [
    "https://leetcode.com/problems/move-zeroes/description/\n",
    "\n",
    "Given an integer array nums, move all 0's to the end of it while maintaining the relative order of the non-zero elements.\n",
    "\n",
    "Note that you must do this in-place without making a copy of the array.\n",
    "\n",
    " \n",
    "\n",
    "Example 1:\n",
    "\n",
    "Input: nums = [0,1,0,3,12]\n",
    "Output: [1,3,12,0,0]\n",
    "Example 2:\n",
    "\n",
    "Input: nums = [0]\n",
    "Output: [0]"
   ]
  },
  {
   "cell_type": "code",
   "execution_count": null,
   "id": "25ff6526-a874-4550-b559-c2a8a29ee2e5",
   "metadata": {},
   "outputs": [],
   "source": [
    "class Solution:\n",
    "    def moveZeroes(self, nums: List[int]) -> None:\n",
    "        left = 0\n",
    "\n",
    "        for right in range(len(nums)):\n",
    "            if nums[right] != 0:\n",
    "                nums[right], nums[left] = nums[left], nums[right]\n",
    "                left += 1\n",
    "        \n",
    "        return nums"
   ]
  },
  {
   "cell_type": "markdown",
   "id": "85a7f725-c109-4572-afaf-ec94d637c76d",
   "metadata": {},
   "source": [
    "# 2. Remove Duplicates from Sorted Array"
   ]
  },
  {
   "cell_type": "markdown",
   "id": "8c7129b6-2aa7-4cbb-9d8f-ff0c1ae5dafd",
   "metadata": {},
   "source": [
    "https://leetcode.com/problems/remove-duplicates-from-sorted-array/?envType=problem-list-v2&envId=two-pointers\n",
    "\n",
    "Given an integer array nums sorted in non-decreasing order, remove the duplicates in-place such that each unique element appears only once. The relative order of the elements should be kept the same. Then return the number of unique elements in nums.\n",
    "\n",
    "Consider the number of unique elements of nums to be k, to get accepted, you need to do the following things:\n",
    "\n",
    "Change the array nums such that the first k elements of nums contain the unique elements in the order they were present in nums initially. The remaining elements of nums are not important as well as the size of nums.\n",
    "Return k."
   ]
  },
  {
   "cell_type": "code",
   "execution_count": null,
   "id": "ddf06528-a860-4b6f-b82f-3fa677614487",
   "metadata": {},
   "outputs": [],
   "source": [
    "class Solution:\n",
    "    def removeDuplicates(self, nums: List[int]) -> int:\n",
    "            l = 0\n",
    "            for r in range(1,len(nums)):\n",
    "                if nums[l] != nums[r]:\n",
    "                    nums[l+1], nums[r] = nums[r], nums[l+1]\n",
    "                    l += 1\n",
    "            return l+1"
   ]
  },
  {
   "cell_type": "markdown",
   "id": "041eb702-b30b-443a-96c7-5ac51649bee8",
   "metadata": {},
   "source": [
    "# 3. Container With Most Water"
   ]
  },
  {
   "cell_type": "markdown",
   "id": "bb10abf1-2233-412c-8a54-bd191acfbb6b",
   "metadata": {},
   "source": [
    "https://leetcode.com/problems/container-with-most-water/description/\n",
    "\n",
    "You are given an integer array height of length n. There are n vertical lines drawn such that the two endpoints of the ith line are (i, 0) and (i, height[i]).\n",
    "\n",
    "Find two lines that together with the x-axis form a container, such that the container contains the most water.\n",
    "\n",
    "Return the maximum amount of water a container can store.\n",
    "\n",
    "Notice that you may not slant the container."
   ]
  },
  {
   "cell_type": "code",
   "execution_count": null,
   "id": "b1c5b522-338f-47d0-a810-fd14d448373b",
   "metadata": {},
   "outputs": [],
   "source": [
    "class Solution:\n",
    "    def maxArea(self, height: List[int]) -> int:\n",
    "        max_area = 0\n",
    "        left = 0\n",
    "        right = len(height) - 1\n",
    "\n",
    "        while left < right:\n",
    "            max_area = max(max_area, (right - left) * min(height[left], height[right]))\n",
    "\n",
    "            if height[left] < height[right]:\n",
    "                left += 1\n",
    "            else:\n",
    "                right -= 1\n",
    "        \n",
    "        return max_area"
   ]
  }
 ],
 "metadata": {
  "kernelspec": {
   "display_name": "Python 3 (ipykernel)",
   "language": "python",
   "name": "python3"
  },
  "language_info": {
   "codemirror_mode": {
    "name": "ipython",
    "version": 3
   },
   "file_extension": ".py",
   "mimetype": "text/x-python",
   "name": "python",
   "nbconvert_exporter": "python",
   "pygments_lexer": "ipython3",
   "version": "3.11.5"
  }
 },
 "nbformat": 4,
 "nbformat_minor": 5
}
