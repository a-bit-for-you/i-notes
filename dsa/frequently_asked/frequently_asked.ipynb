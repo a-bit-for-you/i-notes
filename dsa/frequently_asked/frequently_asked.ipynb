{
 "cells": [
  {
   "cell_type": "markdown",
   "id": "bc754487-99a8-48a6-8bf5-29453d401827",
   "metadata": {},
   "source": [
    "# 1. Anagrams"
   ]
  },
  {
   "cell_type": "code",
   "execution_count": 2,
   "id": "3ad866ac-9611-4939-95a7-a13ea3190064",
   "metadata": {},
   "outputs": [
    {
     "name": "stdout",
     "output_type": "stream",
     "text": [
      "True\n",
      "False\n"
     ]
    }
   ],
   "source": [
    "def are_anagrams(str1, str2):\n",
    "    # Remove spaces and convert to lowercase for case-insensitive comparison\n",
    "    str1 = str1.replace(\" \", \"\").lower()\n",
    "    str2 = str2.replace(\" \", \"\").lower()\n",
    "    \n",
    "    # Sort the characters and compare\n",
    "    return sorted(str1) == sorted(str2)\n",
    "\n",
    "# Example usage:\n",
    "print(are_anagrams(\"listen\", \"silent\"))  # True\n",
    "print(are_anagrams(\"hello\", \"world\"))    # False\n"
   ]
  },
  {
   "cell_type": "markdown",
   "id": "b27483b2-23c4-4f2d-8df3-80cb810f5137",
   "metadata": {},
   "source": [
    "# 2. Anagrams using hashmap"
   ]
  },
  {
   "cell_type": "code",
   "execution_count": 6,
   "id": "a94bc925-86f4-4a9a-b24b-3dbcc85d7b50",
   "metadata": {},
   "outputs": [
    {
     "name": "stdout",
     "output_type": "stream",
     "text": [
      "True\n",
      "False\n"
     ]
    }
   ],
   "source": [
    "def are_anagrams(str1, str2):\n",
    "    # Remove spaces and convert to lowercase\n",
    "    str1 = str1.replace(\" \", \"\").lower()\n",
    "    str2 = str2.replace(\" \", \"\").lower()\n",
    "\n",
    "    # If lengths differ, they can't be anagrams\n",
    "    if len(str1) != len(str2):\n",
    "        return False\n",
    "\n",
    "    char_count = {}\n",
    "\n",
    "    # Count characters in str1\n",
    "    for char in str1:\n",
    "        char_count[char] = char_count.get(char, 0) + 1\n",
    "\n",
    "    # Subtract counts using characters from str2\n",
    "    for char in str2:\n",
    "        if char not in char_count:\n",
    "            return False\n",
    "        char_count[char] -= 1\n",
    "        if char_count[char] < 0:\n",
    "            return False\n",
    "\n",
    "    return True\n",
    "\n",
    "# Example usage:\n",
    "print(are_anagrams(\"Listen\", \"Silent\"))  # True\n",
    "print(are_anagrams(\"Hello\", \"World\"))    # False\n"
   ]
  },
  {
   "cell_type": "markdown",
   "id": "5eadd0a8-5e3e-477a-8b3c-deefabf845d1",
   "metadata": {},
   "source": [
    "How it works:\n",
    "\n",
    "Count each character in the first string.\n",
    "\n",
    "For the second string, decrement counts.\n",
    "\n",
    "If any count goes below zero or a char doesn't exist, not an anagram.\n",
    "\n",
    "If after all operations counts balance out, they are anagrams."
   ]
  },
  {
   "cell_type": "code",
   "execution_count": null,
   "id": "c65738ef-eb54-4794-94d7-2d5a48ccb297",
   "metadata": {},
   "outputs": [],
   "source": []
  }
 ],
 "metadata": {
  "kernelspec": {
   "display_name": "Python 3 (ipykernel)",
   "language": "python",
   "name": "python3"
  },
  "language_info": {
   "codemirror_mode": {
    "name": "ipython",
    "version": 3
   },
   "file_extension": ".py",
   "mimetype": "text/x-python",
   "name": "python",
   "nbconvert_exporter": "python",
   "pygments_lexer": "ipython3",
   "version": "3.11.5"
  }
 },
 "nbformat": 4,
 "nbformat_minor": 5
}
