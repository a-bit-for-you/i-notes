{
 "cells": [
  {
   "cell_type": "markdown",
   "id": "b94cfe9f-8515-495b-9fd6-e34eda36fe95",
   "metadata": {},
   "source": [
    "# 1. Fibonacci"
   ]
  },
  {
   "cell_type": "code",
   "execution_count": 23,
   "id": "9e3b23b9-2792-4a48-b63f-f058b7274148",
   "metadata": {},
   "outputs": [
    {
     "name": "stdout",
     "output_type": "stream",
     "text": [
      "832040\n"
     ]
    }
   ],
   "source": [
    "def fibo(n):\n",
    "    if n <= 1:\n",
    "        return n\n",
    "    return fibo(n - 1) + fibo(n - 2)\n",
    "\n",
    "print(fibo(30))  # Output: 832040"
   ]
  },
  {
   "cell_type": "markdown",
   "id": "d61ea5e2-0789-4951-a10b-5f5bbe34a459",
   "metadata": {},
   "source": [
    "# 2. Fibonacci using memoization"
   ]
  },
  {
   "cell_type": "code",
   "execution_count": 24,
   "id": "e217ee5b-20cb-4c76-8a53-c79b020106c7",
   "metadata": {},
   "outputs": [
    {
     "name": "stdout",
     "output_type": "stream",
     "text": [
      "12586269025\n"
     ]
    }
   ],
   "source": [
    "memo = {}\n",
    "\n",
    "def fibo(n):\n",
    "    if n <= 1:\n",
    "        return n\n",
    "    if n in memo:\n",
    "        return memo[n]\n",
    "    memo[n] = fibo(n - 1) + fibo(n - 2)\n",
    "    return memo[n]\n",
    "\n",
    "print(fibo(50))  # Output: 12586269025"
   ]
  },
  {
   "cell_type": "markdown",
   "id": "a31a4788-27a3-47b0-8b95-d304ba042add",
   "metadata": {},
   "source": [
    "# 3. Factorial"
   ]
  },
  {
   "cell_type": "code",
   "execution_count": 25,
   "id": "0bcc1624-1372-4b0b-a7be-affa6fed8ef6",
   "metadata": {},
   "outputs": [
    {
     "name": "stdout",
     "output_type": "stream",
     "text": [
      "2432902008176640000\n",
      "1\n"
     ]
    }
   ],
   "source": [
    "def fact(n):\n",
    "    if n == 0 or n == 1:\n",
    "        return 1\n",
    "    return fact(n - 1) * n\n",
    "\n",
    "print(fact(20))  # Still returns 2432902008176640000\n",
    "print(fact(0))   # Now correctly returns 1\n"
   ]
  },
  {
   "cell_type": "markdown",
   "id": "7df08aa4-b67b-4a8a-9e3b-c325f469fb09",
   "metadata": {},
   "source": [
    "# 4. Factorial using memoization"
   ]
  },
  {
   "cell_type": "code",
   "execution_count": 26,
   "id": "2087e129-7a69-4508-8399-491b5fd9eea7",
   "metadata": {},
   "outputs": [
    {
     "name": "stdout",
     "output_type": "stream",
     "text": [
      "120\n",
      "1\n"
     ]
    }
   ],
   "source": [
    "memo = {}\n",
    "\n",
    "def factorial(n):\n",
    "    if n == 0 or n == 1:\n",
    "        return 1\n",
    "    if n in memo:\n",
    "        return memo[n]\n",
    "    \n",
    "    result = factorial(n - 1) * n\n",
    "    memo[n] = result\n",
    "    return result\n",
    "\n",
    "print(factorial(5))  # Output: 120\n",
    "print(factorial(0))  # Output: 1"
   ]
  },
  {
   "cell_type": "markdown",
   "id": "a3bee963-54d6-4d85-a433-dbea1dff5783",
   "metadata": {},
   "source": [
    "# 5. Sum"
   ]
  },
  {
   "cell_type": "code",
   "execution_count": 44,
   "id": "d3ecbe00-9f74-4e4a-98a6-ccdcb67d4ad1",
   "metadata": {},
   "outputs": [
    {
     "data": {
      "text/plain": [
       "10"
      ]
     },
     "execution_count": 44,
     "metadata": {},
     "output_type": "execute_result"
    }
   ],
   "source": [
    "def sum_func(n):\n",
    "    if n == 0:\n",
    "        return 0\n",
    "    last_digit = n % 10\n",
    "    return sum_func(n // 10) + last_digit\n",
    "\n",
    "sum_func(4321)"
   ]
  },
  {
   "cell_type": "code",
   "execution_count": null,
   "id": "6c666974-1d0b-444f-ade1-033df88b972e",
   "metadata": {},
   "outputs": [],
   "source": []
  },
  {
   "cell_type": "code",
   "execution_count": null,
   "id": "7ea7ee54-7308-4791-b3ba-f344ecb4da72",
   "metadata": {},
   "outputs": [],
   "source": []
  },
  {
   "cell_type": "code",
   "execution_count": null,
   "id": "fe1aece0-d6ea-481f-af30-e7895d813be2",
   "metadata": {},
   "outputs": [],
   "source": []
  }
 ],
 "metadata": {
  "kernelspec": {
   "display_name": "Python 3 (ipykernel)",
   "language": "python",
   "name": "python3"
  },
  "language_info": {
   "codemirror_mode": {
    "name": "ipython",
    "version": 3
   },
   "file_extension": ".py",
   "mimetype": "text/x-python",
   "name": "python",
   "nbconvert_exporter": "python",
   "pygments_lexer": "ipython3",
   "version": "3.11.5"
  }
 },
 "nbformat": 4,
 "nbformat_minor": 5
}
