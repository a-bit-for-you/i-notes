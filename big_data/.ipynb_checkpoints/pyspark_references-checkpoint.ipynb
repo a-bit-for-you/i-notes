{
 "cells": [
  {
   "cell_type": "markdown",
   "id": "27a3dd83-94e0-4cd4-be7b-2a314242863b",
   "metadata": {},
   "source": [
    "Pyspark by Naresh\n",
    "https://www.youtube.com/playlist?list=PLCLE6UVwCOi1r-LnSDyM-efVK9NpWQMEt"
   ]
  },
  {
   "cell_type": "markdown",
   "id": "723c3c0d-674a-4b9d-8762-b4cd4556ea77",
   "metadata": {},
   "source": [
    "Freecodecamp Krishna https://www.youtube.com/watch?v=_C8kWso4ne4&t=1s"
   ]
  },
  {
   "cell_type": "markdown",
   "id": "1458e9e6-3391-44af-be99-146f0c85b95c",
   "metadata": {},
   "source": [
    "# Pyspark Joins"
   ]
  },
  {
   "cell_type": "markdown",
   "id": "8a66b9c9-6f2f-4d72-b13a-96642bf5718a",
   "metadata": {},
   "source": [
    "https://sparkbyexamples.com/pyspark/pyspark-join-explained-with-examples/"
   ]
  }
 ],
 "metadata": {
  "kernelspec": {
   "display_name": "Python 3 (ipykernel)",
   "language": "python",
   "name": "python3"
  },
  "language_info": {
   "codemirror_mode": {
    "name": "ipython",
    "version": 3
   },
   "file_extension": ".py",
   "mimetype": "text/x-python",
   "name": "python",
   "nbconvert_exporter": "python",
   "pygments_lexer": "ipython3",
   "version": "3.12.4"
  }
 },
 "nbformat": 4,
 "nbformat_minor": 5
}
