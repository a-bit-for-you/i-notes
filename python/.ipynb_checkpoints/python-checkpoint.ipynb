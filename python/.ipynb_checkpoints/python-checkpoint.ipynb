{
 "cells": [
  {
   "cell_type": "markdown",
   "id": "cfe28edb-6808-421f-96c3-a5c8870d0128",
   "metadata": {},
   "source": [
    "# Filter"
   ]
  },
  {
   "cell_type": "code",
   "execution_count": 1,
   "id": "5d5ac5fc-9e3a-4381-8d79-e2c5bb98ff26",
   "metadata": {},
   "outputs": [
    {
     "data": {
      "text/plain": [
       "[2, 4, 6]"
      ]
     },
     "execution_count": 1,
     "metadata": {},
     "output_type": "execute_result"
    }
   ],
   "source": [
    "l = [1,2,3,4,5,6,7]\n",
    "l = list(filter(lambda x:x%2==0,l))\n",
    "l"
   ]
  },
  {
   "cell_type": "markdown",
   "id": "cb11b878-b47b-40df-a155-47138c9b9093",
   "metadata": {},
   "source": [
    "# Map"
   ]
  },
  {
   "cell_type": "code",
   "execution_count": 3,
   "id": "e6e6d646-5cbc-49da-81a5-ba54ab084465",
   "metadata": {},
   "outputs": [
    {
     "data": {
      "text/plain": [
       "[2, 4, 6, 8]"
      ]
     },
     "execution_count": 3,
     "metadata": {},
     "output_type": "execute_result"
    }
   ],
   "source": [
    "lis = [1,2,3,4]\n",
    "lis = list(map(lambda x:x*2,lis))\n",
    "lis"
   ]
  },
  {
   "cell_type": "markdown",
   "id": "fe8afeb7-f349-49d2-9f80-e921f3e15acf",
   "metadata": {},
   "source": [
    "# Reduce"
   ]
  },
  {
   "cell_type": "code",
   "execution_count": 4,
   "id": "b7cbc1e2-17ea-4171-8a6b-c9e93b8898ba",
   "metadata": {},
   "outputs": [
    {
     "data": {
      "text/plain": [
       "120"
      ]
     },
     "execution_count": 4,
     "metadata": {},
     "output_type": "execute_result"
    }
   ],
   "source": [
    "li = [5,3,2,4,1]\n",
    "from functools import reduce\n",
    "li = reduce(lambda x,y:x*y,li)\n",
    "li"
   ]
  },
  {
   "cell_type": "markdown",
   "id": "f4522377",
   "metadata": {},
   "source": [
    "# Decorators"
   ]
  },
  {
   "cell_type": "markdown",
   "id": "2d9e4ebb",
   "metadata": {},
   "source": [
    "Decorators are used add additional functionality to a function without modifying the original function."
   ]
  },
  {
   "cell_type": "code",
   "execution_count": 5,
   "id": "a4827927",
   "metadata": {},
   "outputs": [
    {
     "name": "stdout",
     "output_type": "stream",
     "text": [
      "----------\n",
      "hello world!\n",
      "++++++++++\n"
     ]
    }
   ],
   "source": [
    "def func1(func2):\n",
    "    def wrap():\n",
    "        print('----------')\n",
    "        func2()\n",
    "        print('++++++++++')\n",
    "    return wrap\n",
    "\n",
    "@func1\n",
    "def func2():\n",
    "    print('hello world!')\n",
    "func2()"
   ]
  },
  {
   "cell_type": "markdown",
   "id": "250b385f",
   "metadata": {},
   "source": [
    "# Generators"
   ]
  },
  {
   "cell_type": "markdown",
   "id": "6c7f6203",
   "metadata": {},
   "source": [
    "Generators are special functions that returns an iterable object. It is normally used to create iterators."
   ]
  },
  {
   "cell_type": "code",
   "execution_count": 23,
   "id": "d78f55ba",
   "metadata": {},
   "outputs": [],
   "source": [
    "def gen(n):\n",
    "    for i in range(n):\n",
    "        yield i\n",
    "\n",
    "itr_obj = gen(10)"
   ]
  },
  {
   "cell_type": "code",
   "execution_count": 29,
   "id": "b814e9c0",
   "metadata": {},
   "outputs": [
    {
     "data": {
      "text/plain": [
       "5"
      ]
     },
     "execution_count": 29,
     "metadata": {},
     "output_type": "execute_result"
    }
   ],
   "source": [
    "itr_obj.__next__()"
   ]
  },
  {
   "cell_type": "markdown",
   "id": "3364a7f3",
   "metadata": {},
   "source": [
    "# Iterators"
   ]
  },
  {
   "cell_type": "markdown",
   "id": "c75a90a3",
   "metadata": {},
   "source": [
    "Iterators are objects which can be traversed though or iterated upon."
   ]
  },
  {
   "cell_type": "markdown",
   "id": "0d27343e",
   "metadata": {},
   "source": [
    "# Polymorphism"
   ]
  },
  {
   "cell_type": "markdown",
   "id": "fc94ee74",
   "metadata": {},
   "source": [
    "The word polymorphism means having many forms, same function name but different signatures.\n",
    "It can be implemented by using method overloading and overriding."
   ]
  },
  {
   "cell_type": "markdown",
   "id": "ec0528b1",
   "metadata": {},
   "source": [
    "# Method Overloading"
   ]
  },
  {
   "cell_type": "markdown",
   "id": "662ceb81",
   "metadata": {},
   "source": [
    "In method overloading two or more functions have same name but different parameters."
   ]
  },
  {
   "cell_type": "code",
   "execution_count": 43,
   "id": "82a7b877",
   "metadata": {},
   "outputs": [
    {
     "data": {
      "text/plain": [
       "6"
      ]
     },
     "execution_count": 43,
     "metadata": {},
     "output_type": "execute_result"
    }
   ],
   "source": [
    "class calc:\n",
    "    def add(self, a=None, b=None, c=None):\n",
    "        if a and b and c:\n",
    "            return a+b+c\n",
    "        elif a and b:\n",
    "            return a+b\n",
    "        return a\n",
    "obj = calc()\n",
    "\n",
    "obj.add(1,2,3)"
   ]
  },
  {
   "cell_type": "markdown",
   "id": "c5e049be",
   "metadata": {},
   "source": [
    "# Method Overriding"
   ]
  },
  {
   "cell_type": "markdown",
   "id": "33a2d82b",
   "metadata": {},
   "source": [
    "In method overloading two or more functions have same name and same parameters."
   ]
  },
  {
   "cell_type": "code",
   "execution_count": 47,
   "id": "197c4af1",
   "metadata": {},
   "outputs": [
    {
     "name": "stdout",
     "output_type": "stream",
     "text": [
      "hi\n"
     ]
    }
   ],
   "source": [
    "class A:\n",
    "    def print_msg(self):\n",
    "        print('hello')\n",
    "        \n",
    "class B(A):\n",
    "    def print_msg(self):\n",
    "        print('hi')\n",
    "    pass\n",
    "        \n",
    "obj = B()\n",
    "obj.print_msg()"
   ]
  },
  {
   "cell_type": "markdown",
   "id": "56dad9db",
   "metadata": {},
   "source": [
    "# Abstract class"
   ]
  },
  {
   "cell_type": "markdown",
   "id": "80a312ac",
   "metadata": {},
   "source": [
    "Abstract class is a class which cannot be instantiated but it can be subclassed. It only contains the declaration part and not the implementation."
   ]
  },
  {
   "cell_type": "code",
   "execution_count": 1,
   "id": "36bad7f9",
   "metadata": {},
   "outputs": [
    {
     "name": "stdout",
     "output_type": "stream",
     "text": [
      "I have 4 wheels,\n",
      "I have 2 wheels.\n"
     ]
    }
   ],
   "source": [
    "from abc import *\n",
    "\n",
    "class vehicle(ABC):\n",
    "    \n",
    "    @abstractmethod\n",
    "    def no_of_wheels(self):\n",
    "        pass\n",
    "    \n",
    "class car(vehicle):\n",
    "    def no_of_wheels(self):\n",
    "        print('I have 4 wheels,')\n",
    "        \n",
    "class bike(vehicle):\n",
    "    def no_of_wheels(self):\n",
    "        print('I have 2 wheels.')\n",
    "        \n",
    "car_obj = car()\n",
    "bike_obj = bike()\n",
    "\n",
    "car_obj.no_of_wheels()\n",
    "bike_obj.no_of_wheels()"
   ]
  },
  {
   "cell_type": "markdown",
   "id": "16e5e07e",
   "metadata": {},
   "source": [
    "# Inheritance"
   ]
  },
  {
   "cell_type": "raw",
   "id": "e3426ed3",
   "metadata": {},
   "source": [
    "In inheritance methods and attributes of Parent class is inherited in the child class.\n",
    "There are different types of inheritance such as \n",
    "Single level Inheritance\n",
    "Multilevel Inheritance\n",
    "Multiple Inheritance\n",
    "Hybrid Inheritance\n",
    "Hierarchichal Inheritance"
   ]
  },
  {
   "cell_type": "markdown",
   "id": "28f11db1",
   "metadata": {},
   "source": [
    "## Single level Inheritance"
   ]
  },
  {
   "cell_type": "markdown",
   "id": "04cda982",
   "metadata": {},
   "source": [
    "In Single level Inheritance there is only one parent and one child."
   ]
  },
  {
   "cell_type": "code",
   "execution_count": 9,
   "id": "395b1749",
   "metadata": {},
   "outputs": [
    {
     "name": "stdout",
     "output_type": "stream",
     "text": [
      "Feature 1 of class A\n",
      "Feature 2 of class A\n",
      "Feature 3 of class B\n",
      "Feature 4 of class B\n"
     ]
    }
   ],
   "source": [
    "class A:\n",
    "    def feature1(self):\n",
    "        print('Feature 1 of class A')\n",
    "    def feature2(self):\n",
    "        print('Feature 2 of class A')\n",
    "\n",
    "class B(A):\n",
    "    def feature3(self):\n",
    "        print('Feature 3 of class B')\n",
    "    def feature4(self):\n",
    "        print('Feature 4 of class B')\n",
    "obj_b = B()\n",
    "obj_b.feature1()\n",
    "obj_b.feature2()\n",
    "obj_b.feature3()\n",
    "obj_b.feature4()"
   ]
  },
  {
   "cell_type": "markdown",
   "id": "eb0ff312",
   "metadata": {},
   "source": [
    "## Multilevel Inheritance"
   ]
  },
  {
   "cell_type": "markdown",
   "id": "10f076b6",
   "metadata": {},
   "source": [
    "In Multilevel Inheritance there is a grand parent, parent and a child."
   ]
  },
  {
   "cell_type": "code",
   "execution_count": 10,
   "id": "2cbaf36c",
   "metadata": {},
   "outputs": [
    {
     "name": "stdout",
     "output_type": "stream",
     "text": [
      "Feature 1 of class A\n",
      "Feature 2 of class A\n",
      "Feature 3 of class B\n",
      "Feature 4 of class B\n",
      "Feature 5 of class C\n",
      "Feature 6 of class C\n"
     ]
    }
   ],
   "source": [
    "class A:\n",
    "    def feature1(self):\n",
    "        print('Feature 1 of class A')\n",
    "    def feature2(self):\n",
    "        print('Feature 2 of class A')\n",
    "\n",
    "class B(A):\n",
    "    def feature3(self):\n",
    "        print('Feature 3 of class B')\n",
    "    def feature4(self):\n",
    "        print('Feature 4 of class B')\n",
    "\n",
    "class C(B):\n",
    "    def feature5(self):\n",
    "        print('Feature 5 of class C')\n",
    "    def feature6(self):\n",
    "        print('Feature 6 of class C')\n",
    "\n",
    "obj_c = C()\n",
    "obj_c.feature1()\n",
    "obj_c.feature2()\n",
    "obj_c.feature3()\n",
    "obj_c.feature4()\n",
    "obj_c.feature5()\n",
    "obj_c.feature6()"
   ]
  },
  {
   "cell_type": "markdown",
   "id": "b4494e58",
   "metadata": {},
   "source": [
    "## Multiple Inheritance"
   ]
  },
  {
   "cell_type": "markdown",
   "id": "4fe31947",
   "metadata": {},
   "source": [
    "In Multiple Inheritance there are two parents and one child."
   ]
  },
  {
   "cell_type": "code",
   "execution_count": 11,
   "id": "41416dd4",
   "metadata": {},
   "outputs": [
    {
     "name": "stdout",
     "output_type": "stream",
     "text": [
      "Feature 1 of class A\n",
      "Feature 2 of class A\n",
      "Feature 3 of class B\n",
      "Feature 4 of class B\n",
      "Feature 5 of class C\n",
      "Feature 6 of class C\n"
     ]
    }
   ],
   "source": [
    "class A:\n",
    "    def feature1(self):\n",
    "        print('Feature 1 of class A')\n",
    "    def feature2(self):\n",
    "        print('Feature 2 of class A')\n",
    "\n",
    "class B:\n",
    "    def feature3(self):\n",
    "        print('Feature 3 of class B')\n",
    "    def feature4(self):\n",
    "        print('Feature 4 of class B')\n",
    "        \n",
    "class C(A,B):\n",
    "    def feature5(self):\n",
    "        print('Feature 5 of class C')\n",
    "    def feature6(self):\n",
    "        print('Feature 6 of class C')\n",
    "        \n",
    "obj_c = C()\n",
    "obj_c.feature1()\n",
    "obj_c.feature2()\n",
    "obj_c.feature3()\n",
    "obj_c.feature4()\n",
    "obj_c.feature5()\n",
    "obj_c.feature6()"
   ]
  },
  {
   "cell_type": "markdown",
   "id": "fe5ba1d2",
   "metadata": {},
   "source": [
    "## Hybrid Inheritance"
   ]
  },
  {
   "cell_type": "markdown",
   "id": "9f2f6005",
   "metadata": {},
   "source": [
    "Hybrid Inheritance is a combination of different types of inheritance.\n",
    "For example combination of Multiple and multilevel inheritance"
   ]
  },
  {
   "cell_type": "code",
   "execution_count": 4,
   "id": "37128c44",
   "metadata": {},
   "outputs": [
    {
     "name": "stdout",
     "output_type": "stream",
     "text": [
      "Feature 1 of class A\n",
      "Feature 2 of class A\n",
      "Feature 3 of class B\n",
      "Feature 4 of class B\n",
      "Feature 7 of class D\n",
      "Feature 8 of class D\n"
     ]
    }
   ],
   "source": [
    "class A:\n",
    "    def feature1(self):\n",
    "        print('Feature 1 of class A')\n",
    "    def feature2(self):\n",
    "        print('Feature 2 of class A')\n",
    "\n",
    "class B(A):\n",
    "    def feature3(self):\n",
    "        print('Feature 3 of class B')\n",
    "    def feature4(self):\n",
    "        print('Feature 4 of class B')\n",
    "\n",
    "class C(A):\n",
    "    def feature5(self):\n",
    "        print('Feature 5 of class C')\n",
    "    def feature6(self):\n",
    "        print('Feature 6 of class C')\n",
    "\n",
    "class D(B,A):\n",
    "    def feature7(self):\n",
    "        print('Feature 7 of class D')\n",
    "    def feature8(self):\n",
    "        print('Feature 8 of class D')\n",
    "        \n",
    "obj_d = D()\n",
    "\n",
    "obj_d.feature1()\n",
    "obj_d.feature2()\n",
    "obj_d.feature3()\n",
    "obj_d.feature4()\n",
    "obj_d.feature7()\n",
    "obj_d.feature8()"
   ]
  },
  {
   "cell_type": "markdown",
   "id": "9f771445",
   "metadata": {},
   "source": [
    "## Hierarchical Inheritance"
   ]
  },
  {
   "cell_type": "markdown",
   "id": "1fe00254",
   "metadata": {},
   "source": [
    "In hierarchical Inheritance there is one parent and there are many childs."
   ]
  },
  {
   "cell_type": "code",
   "execution_count": 1,
   "id": "509594df",
   "metadata": {},
   "outputs": [
    {
     "name": "stdout",
     "output_type": "stream",
     "text": [
      "Feature 1 of class A\n",
      "Feature 2 of class A\n",
      "Feature 3 of class B\n",
      "Feature 4 of class B\n",
      "Feature 1 of class A\n",
      "Feature 2 of class A\n",
      "Feature 5 of class C\n",
      "Feature 6 of class C\n"
     ]
    }
   ],
   "source": [
    "class A:\n",
    "    def feature1(self):\n",
    "        print('Feature 1 of class A')\n",
    "    def feature2(self):\n",
    "        print('Feature 2 of class A')\n",
    "\n",
    "class B(A):\n",
    "    def feature3(self):\n",
    "        print('Feature 3 of class B')\n",
    "    def feature4(self):\n",
    "        print('Feature 4 of class B')\n",
    "        \n",
    "class C(A):\n",
    "    def feature5(self):\n",
    "        print('Feature 5 of class C')\n",
    "    def feature6(self):\n",
    "        print('Feature 6 of class C')\n",
    "\n",
    "obj_b = B()\n",
    "obj_b.feature1()\n",
    "obj_b.feature2()\n",
    "obj_b.feature3()\n",
    "obj_b.feature4()\n",
    "\n",
    "obj_c = C()\n",
    "obj_c.feature1()\n",
    "obj_c.feature2()\n",
    "obj_c.feature5()\n",
    "obj_c.feature6()"
   ]
  },
  {
   "cell_type": "markdown",
   "id": "4da1a632",
   "metadata": {},
   "source": [
    "# Encapsulation"
   ]
  },
  {
   "cell_type": "markdown",
   "id": "1ae9420f",
   "metadata": {},
   "source": [
    "Encapsulation is used to bind the data and code together. It is used for data hiding."
   ]
  },
  {
   "cell_type": "markdown",
   "id": "5098a9b7",
   "metadata": {},
   "source": [
    "# Access specifiers of Modifiers"
   ]
  },
  {
   "cell_type": "markdown",
   "id": "f9d57611",
   "metadata": {},
   "source": [
    "Access specifiers are keywords that are used for encapsulation. They are of 3 types.\n",
    "Public, Protected and Private."
   ]
  },
  {
   "cell_type": "code",
   "execution_count": null,
   "id": "c7855d52",
   "metadata": {},
   "outputs": [],
   "source": []
  }
 ],
 "metadata": {
  "kernelspec": {
   "display_name": "Python 3 (ipykernel)",
   "language": "python",
   "name": "python3"
  },
  "language_info": {
   "codemirror_mode": {
    "name": "ipython",
    "version": 3
   },
   "file_extension": ".py",
   "mimetype": "text/x-python",
   "name": "python",
   "nbconvert_exporter": "python",
   "pygments_lexer": "ipython3",
   "version": "3.12.4"
  }
 },
 "nbformat": 4,
 "nbformat_minor": 5
}
